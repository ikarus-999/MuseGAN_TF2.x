{
 "cells": [
  {
   "cell_type": "code",
   "execution_count": null,
   "metadata": {
    "ExecuteTime": {
     "end_time": "2022-05-16T10:12:43.519658Z",
     "start_time": "2022-05-16T10:12:42.069214Z"
    }
   },
   "outputs": [],
   "source": [
    "import os\n",
    "import matplotlib.pyplot as plt\n",
    "import numpy as np\n",
    "import pypianoroll\n",
    "from music21 import midi\n",
    "from music21 import note, stream, duration\n",
    "from music21 import converter\n",
    "from MuseGAN_original import MuseGAN\n",
    "from util_music import loaders\n",
    "from tensorflow.keras.models import load_model\n",
    "import tensorflow as tf"
   ]
  },
  {
   "cell_type": "code",
   "execution_count": null,
   "metadata": {
    "ExecuteTime": {
     "end_time": "2022-05-16T10:12:43.532107Z",
     "start_time": "2022-05-16T10:12:43.520767Z"
    }
   },
   "outputs": [],
   "source": [
    "from music21 import *\n",
    "us = environment.UserSettings()\n",
    "us['musescoreDirectPNGPath'] = '/usr/bin/mscore'\n",
    "us['directoryScratch'] = '/tmp'"
   ]
  },
  {
   "cell_type": "code",
   "execution_count": null,
   "metadata": {
    "ExecuteTime": {
     "end_time": "2022-05-16T10:12:46.196081Z",
     "start_time": "2022-05-16T10:12:46.190556Z"
    }
   },
   "outputs": [],
   "source": [
    "# run params\n",
    "SECTION = 'compose'\n",
    "RUN_ID = '1000'\n",
    "DATA_NAME = 'lpd_17' #'chorales'\n",
    "# FILENAME = 'Jsb16thSeparated.npz'\n",
    "RUN_FOLDER = 'run/{}/'.format(SECTION)\n",
    "RUN_FOLDER += '_'.join([RUN_ID, DATA_NAME])"
   ]
  },
  {
   "cell_type": "code",
   "execution_count": null,
   "metadata": {
    "ExecuteTime": {
     "end_time": "2022-05-16T10:12:46.379021Z",
     "start_time": "2022-05-16T10:12:46.364659Z"
    }
   },
   "outputs": [],
   "source": [
    "RUN_FOLDER"
   ]
  },
  {
   "cell_type": "code",
   "execution_count": null,
   "metadata": {},
   "outputs": [],
   "source": []
  },
  {
   "cell_type": "markdown",
   "metadata": {},
   "source": [
    "## data"
   ]
  },
  {
   "cell_type": "code",
   "execution_count": null,
   "metadata": {
    "ExecuteTime": {
     "end_time": "2022-05-16T10:13:22.908470Z",
     "start_time": "2022-05-16T10:13:22.903292Z"
    }
   },
   "outputs": [],
   "source": [
    "BATCH_SIZE = 64\n",
    "n_bars = 2\n",
    "n_steps_per_bar = 16\n",
    "n_pitches = 84\n",
    "n_tracks = 8\n",
    "\n",
    "#data_binary_2, data_ints_2, raw_data = loaders.load_music(DATA_NAME, FILENAME, n_bars, n_steps_per_bar)\n",
    "#print(data_binary_2.shape)\n",
    "#print(data_ints_2.shape)\n",
    "# data_binary = np.squeeze(data_binary)"
   ]
  },
  {
   "cell_type": "code",
   "execution_count": null,
   "metadata": {
    "ExecuteTime": {
     "end_time": "2022-05-16T10:13:27.055474Z",
     "start_time": "2022-05-16T10:13:26.116158Z"
    }
   },
   "outputs": [],
   "source": [
    "data_binary = np.load('./run/dataset3.npy')\n",
    "print(data_binary.shape)"
   ]
  },
  {
   "cell_type": "code",
   "execution_count": null,
   "metadata": {
    "ExecuteTime": {
     "end_time": "2022-05-16T10:13:27.058540Z",
     "start_time": "2022-05-16T10:13:27.056477Z"
    }
   },
   "outputs": [],
   "source": [
    "data_binary = data_binary.reshape(-1, n_bars, n_steps_per_bar, n_pitches, 17)\n",
    "print(data_binary.shape)"
   ]
  },
  {
   "cell_type": "code",
   "execution_count": null,
   "metadata": {},
   "outputs": [],
   "source": []
  },
  {
   "cell_type": "code",
   "execution_count": null,
   "metadata": {
    "ExecuteTime": {
     "end_time": "2022-05-16T10:13:40.099271Z",
     "start_time": "2022-05-16T10:13:29.170827Z"
    }
   },
   "outputs": [],
   "source": [
    "gan = MuseGAN(input_dim = data_binary.shape[1:-1] + (8,)\n",
    "        , critic_learning_rate = 0.001\n",
    "        , generator_learning_rate = 0.001\n",
    "        , optimiser = 'adam'\n",
    "        , grad_weight = 10\n",
    "        , z_dim = 32\n",
    "        , batch_size = BATCH_SIZE\n",
    "        , n_tracks = n_tracks\n",
    "        , n_bars = n_bars\n",
    "        , n_steps_per_bar = n_steps_per_bar\n",
    "        , n_pitches = n_pitches\n",
    "        )"
   ]
  },
  {
   "cell_type": "code",
   "execution_count": null,
   "metadata": {
    "ExecuteTime": {
     "end_time": "2022-05-16T10:13:53.992547Z",
     "start_time": "2022-05-16T10:13:47.723508Z"
    }
   },
   "outputs": [],
   "source": [
    "gan.load_weights(RUN_FOLDER , None)"
   ]
  },
  {
   "cell_type": "code",
   "execution_count": null,
   "metadata": {
    "ExecuteTime": {
     "end_time": "2022-05-16T10:13:54.016743Z",
     "start_time": "2022-05-16T10:13:53.993780Z"
    },
    "scrolled": true
   },
   "outputs": [],
   "source": [
    "gan.generator.summary()"
   ]
  },
  {
   "cell_type": "code",
   "execution_count": null,
   "metadata": {
    "ExecuteTime": {
     "end_time": "2022-05-16T10:13:54.032991Z",
     "start_time": "2022-05-16T10:13:54.017436Z"
    },
    "scrolled": true
   },
   "outputs": [],
   "source": [
    "gan.critic.summary()"
   ]
  },
  {
   "cell_type": "markdown",
   "metadata": {},
   "source": [
    "# view sample score"
   ]
  },
  {
   "cell_type": "code",
   "execution_count": null,
   "metadata": {
    "ExecuteTime": {
     "end_time": "2022-05-16T10:14:01.345149Z",
     "start_time": "2022-05-16T10:14:01.339156Z"
    }
   },
   "outputs": [],
   "source": [
    "chords_noise = np.random.normal(0, 1, (1, gan.z_dim))\n",
    "style_noise = np.random.normal(0, 1, (1, gan.z_dim))\n",
    "melody_noise = np.random.normal(0, 1, (1, gan.n_tracks, gan.z_dim))\n",
    "groove_noise = np.random.normal(0, 1, (1, gan.n_tracks, gan.z_dim))"
   ]
  },
  {
   "cell_type": "code",
   "execution_count": null,
   "metadata": {
    "ExecuteTime": {
     "end_time": "2022-05-16T10:14:01.489807Z",
     "start_time": "2022-05-16T10:14:01.472741Z"
    }
   },
   "outputs": [],
   "source": [
    "def get_conditioned_track(midi=None, phrase_length=192, beat_resolution=12):\n",
    "    \n",
    "    if not isinstance(midi, str):\n",
    "        # ----------- Generation from preprocessed dataset ------------------\n",
    "        sample_x = midi\n",
    "        sample_c = np.expand_dims(sample_x[..., 0], -1)\n",
    "    else:\n",
    "        # --------------- Generation from midi file -------------------------\n",
    "        midi_file = midi\n",
    "\n",
    "        parsed = pypianoroll.read(midi_file)\n",
    "        parsed.set_resolution(beat_resolution)\n",
    "\n",
    "        sample_c = parsed.tracks[0].pianoroll.astype(np.float32)\n",
    "        \n",
    "        # Remove initial steps that have no note-on events\n",
    "        first_non_zero = np.nonzero(sample_c.sum(axis=1))[0][0]\n",
    "        \n",
    "        # Use the first 'phrase_length' steps as the primer\n",
    "        sample_c = sample_c[first_non_zero: first_non_zero + phrase_length]\n",
    "\n",
    "        # Binarize data (ignore velocity value)\n",
    "        sample_c[sample_c > 0] = 1\n",
    "        sample_c[sample_c <= 0] = -1\n",
    "\n",
    "        sample_c = np.expand_dims(np.expand_dims(sample_c, 0), -1)  # 1, 32, 128, 1\n",
    "        sample_c = sample_c[:, :, 24:24+84, :]\n",
    "        sample_c = sample_c.reshape(-1, 2, 16, 84, 1)\n",
    "    sample_c = tf.convert_to_tensor(sample_c, dtype=tf.float32)\n",
    "    return sample_c"
   ]
  },
  {
   "cell_type": "code",
   "execution_count": null,
   "metadata": {
    "ExecuteTime": {
     "end_time": "2022-05-16T10:14:10.229630Z",
     "start_time": "2022-05-16T10:14:10.205400Z"
    }
   },
   "outputs": [],
   "source": [
    "y = get_conditioned_track(midi ='./input_midi/보고싶다.mid')# (2, 16, 84, 1)\n",
    "print(y.shape)"
   ]
  },
  {
   "cell_type": "code",
   "execution_count": null,
   "metadata": {
    "ExecuteTime": {
     "end_time": "2022-05-16T10:14:15.611873Z",
     "start_time": "2022-05-16T10:14:11.665984Z"
    }
   },
   "outputs": [],
   "source": [
    "gen_scores = gan.generator.predict([chords_noise, style_noise, melody_noise, groove_noise, y], steps=1)"
   ]
  },
  {
   "cell_type": "code",
   "execution_count": null,
   "metadata": {
    "ExecuteTime": {
     "end_time": "2022-05-16T10:14:17.908089Z",
     "start_time": "2022-05-16T10:14:17.901627Z"
    }
   },
   "outputs": [],
   "source": [
    "np.argmax(gen_scores[0,0,0:4,:,3], axis = 1)"
   ]
  },
  {
   "cell_type": "code",
   "execution_count": null,
   "metadata": {
    "ExecuteTime": {
     "end_time": "2022-05-16T10:17:40.185624Z",
     "start_time": "2022-05-16T10:17:39.208008Z"
    }
   },
   "outputs": [],
   "source": [
    "filename = 'example'\n",
    "gan.notes_to_midi(RUN_FOLDER, gen_scores, filename)\n",
    "gen_score = converter.parse(os.path.join(RUN_FOLDER, 'samples/{}.midi'.format(filename)))\n",
    "gen_score.show()"
   ]
  },
  {
   "cell_type": "code",
   "execution_count": null,
   "metadata": {
    "ExecuteTime": {
     "end_time": "2022-05-16T10:17:46.664732Z",
     "start_time": "2022-05-16T10:17:45.894057Z"
    },
    "scrolled": true
   },
   "outputs": [],
   "source": [
    "gan.draw_score(gen_scores, 0)"
   ]
  },
  {
   "cell_type": "markdown",
   "metadata": {},
   "source": [
    "# find the closest match"
   ]
  },
  {
   "cell_type": "code",
   "execution_count": null,
   "metadata": {
    "ExecuteTime": {
     "end_time": "2022-05-16T10:17:49.970246Z",
     "start_time": "2022-05-16T10:17:49.963145Z"
    }
   },
   "outputs": [],
   "source": [
    "def find_closest(data_binary, score):\n",
    "    current_dist = 99999999\n",
    "    current_i = -1\n",
    "    for i, d in enumerate(data_binary):\n",
    "        dist = np.sqrt(np.sum(pow((d - score),2)))\n",
    "        if dist < current_dist:\n",
    "            current_i = i\n",
    "            current_dist = dist\n",
    "        \n",
    "    return current_i\n",
    "    "
   ]
  },
  {
   "cell_type": "code",
   "execution_count": null,
   "metadata": {
    "ExecuteTime": {
     "end_time": "2022-05-16T10:17:53.911882Z",
     "start_time": "2022-05-16T10:17:50.085456Z"
    }
   },
   "outputs": [],
   "source": [
    "closest_idx = find_closest(data_binary[:, :, :, :, :8], gen_scores[0])\n",
    "closest_data = data_binary[[closest_idx]]\n",
    "print(closest_idx)"
   ]
  },
  {
   "cell_type": "code",
   "execution_count": null,
   "metadata": {
    "ExecuteTime": {
     "end_time": "2022-05-16T10:17:53.915575Z",
     "start_time": "2022-05-16T10:17:53.913027Z"
    }
   },
   "outputs": [],
   "source": [
    "closest_data.shape"
   ]
  },
  {
   "cell_type": "code",
   "execution_count": null,
   "metadata": {
    "ExecuteTime": {
     "end_time": "2022-05-16T10:17:55.002886Z",
     "start_time": "2022-05-16T10:17:53.916251Z"
    }
   },
   "outputs": [],
   "source": [
    "filename = 'closest'\n",
    "gan.notes_to_midi(RUN_FOLDER, closest_data[:, :, :, :, :8],filename)\n",
    "closest_score = converter.parse(os.path.join(RUN_FOLDER, 'samples/{}.midi'.format(filename)))\n",
    "print('original')\n",
    "gen_score.show()\n",
    "print('closest')\n",
    "closest_score.show()"
   ]
  },
  {
   "cell_type": "markdown",
   "metadata": {},
   "source": [
    "# changing the chords noise"
   ]
  },
  {
   "cell_type": "code",
   "execution_count": null,
   "metadata": {
    "ExecuteTime": {
     "end_time": "2022-05-16T10:18:04.412947Z",
     "start_time": "2022-05-16T10:18:04.407978Z"
    }
   },
   "outputs": [],
   "source": [
    "chords_noise_2 = 5 * np.ones((1, gan.z_dim))"
   ]
  },
  {
   "cell_type": "code",
   "execution_count": null,
   "metadata": {
    "ExecuteTime": {
     "end_time": "2022-05-16T10:18:04.579882Z",
     "start_time": "2022-05-16T10:18:04.533070Z"
    }
   },
   "outputs": [],
   "source": [
    "chords_scores = gan.generator.predict([chords_noise_2, style_noise, melody_noise, groove_noise, y], steps=1)"
   ]
  },
  {
   "cell_type": "code",
   "execution_count": null,
   "metadata": {
    "ExecuteTime": {
     "end_time": "2022-05-16T10:18:06.562267Z",
     "start_time": "2022-05-16T10:18:04.685364Z"
    }
   },
   "outputs": [],
   "source": [
    "filename = 'changing_chords'\n",
    "gan.notes_to_midi(RUN_FOLDER, chords_scores, filename)\n",
    "chords_score = converter.parse(os.path.join(RUN_FOLDER, 'samples/{}.midi'.format(filename)))\n",
    "print('original')\n",
    "gen_score.show()\n",
    "print('chords noise changed')\n",
    "chords_score.show()"
   ]
  },
  {
   "cell_type": "markdown",
   "metadata": {},
   "source": [
    "# changing the style noise"
   ]
  },
  {
   "cell_type": "code",
   "execution_count": null,
   "metadata": {
    "ExecuteTime": {
     "end_time": "2022-05-16T10:18:14.198013Z",
     "start_time": "2022-05-16T10:18:14.192606Z"
    }
   },
   "outputs": [],
   "source": [
    "style_noise_2 = 5 * np.ones((1, gan.z_dim))"
   ]
  },
  {
   "cell_type": "code",
   "execution_count": null,
   "metadata": {
    "ExecuteTime": {
     "end_time": "2022-05-16T10:18:14.369165Z",
     "start_time": "2022-05-16T10:18:14.329621Z"
    }
   },
   "outputs": [],
   "source": [
    "style_scores = gan.generator.predict([chords_noise, style_noise_2, melody_noise, groove_noise, y], steps=1)"
   ]
  },
  {
   "cell_type": "code",
   "execution_count": null,
   "metadata": {
    "ExecuteTime": {
     "end_time": "2022-05-16T10:18:16.056442Z",
     "start_time": "2022-05-16T10:18:14.463711Z"
    }
   },
   "outputs": [],
   "source": [
    "filename = 'changing_style'\n",
    "gan.notes_to_midi(RUN_FOLDER, style_scores, filename)\n",
    "style_score = converter.parse(os.path.join(RUN_FOLDER, 'samples/{}.midi'.format(filename)))\n",
    "print('original')\n",
    "gen_score.show()\n",
    "print('style noise changed')\n",
    "style_score.show()"
   ]
  },
  {
   "cell_type": "markdown",
   "metadata": {},
   "source": [
    "# changing the melody noise"
   ]
  },
  {
   "cell_type": "code",
   "execution_count": null,
   "metadata": {
    "ExecuteTime": {
     "end_time": "2022-05-16T10:18:22.111992Z",
     "start_time": "2022-05-16T10:18:22.106482Z"
    }
   },
   "outputs": [],
   "source": [
    "melody_noise_2 = np.copy(melody_noise)\n",
    "melody_noise_2[0,0,:] = 5 * np.ones(gan.z_dim)"
   ]
  },
  {
   "cell_type": "code",
   "execution_count": null,
   "metadata": {
    "ExecuteTime": {
     "end_time": "2022-05-16T10:18:22.281334Z",
     "start_time": "2022-05-16T10:18:22.241615Z"
    }
   },
   "outputs": [],
   "source": [
    "melody_scores = gan.generator.predict([chords_noise, style_noise, melody_noise_2, groove_noise, y], steps=1)"
   ]
  },
  {
   "cell_type": "code",
   "execution_count": null,
   "metadata": {
    "ExecuteTime": {
     "end_time": "2022-05-16T10:18:23.976310Z",
     "start_time": "2022-05-16T10:18:22.383242Z"
    }
   },
   "outputs": [],
   "source": [
    "filename = 'changing_melody'\n",
    "gan.notes_to_midi(RUN_FOLDER, melody_scores, filename)\n",
    "melody_score = converter.parse(os.path.join(RUN_FOLDER, 'samples/{}.midi'.format(filename)))\n",
    "print('original')\n",
    "gen_score.show()\n",
    "print('melody noise changed')\n",
    "melody_score.show()"
   ]
  },
  {
   "cell_type": "markdown",
   "metadata": {},
   "source": [
    "# changing the groove noise"
   ]
  },
  {
   "cell_type": "code",
   "execution_count": null,
   "metadata": {
    "ExecuteTime": {
     "end_time": "2022-05-16T10:18:28.856901Z",
     "start_time": "2022-05-16T10:18:28.851819Z"
    }
   },
   "outputs": [],
   "source": [
    "groove_noise_2 = np.copy(groove_noise)\n",
    "groove_noise_2[0,3,:] = 5 * np.ones(gan.z_dim)"
   ]
  },
  {
   "cell_type": "code",
   "execution_count": null,
   "metadata": {
    "ExecuteTime": {
     "end_time": "2022-05-16T10:18:29.034340Z",
     "start_time": "2022-05-16T10:18:28.996910Z"
    }
   },
   "outputs": [],
   "source": [
    "groove_scores = gan.generator.predict([chords_noise, style_noise, melody_noise, groove_noise_2, y], steps=1)"
   ]
  },
  {
   "cell_type": "code",
   "execution_count": null,
   "metadata": {
    "ExecuteTime": {
     "end_time": "2022-05-16T10:18:30.995660Z",
     "start_time": "2022-05-16T10:18:29.145130Z"
    }
   },
   "outputs": [],
   "source": [
    "filename = 'changing_groove'\n",
    "gan.notes_to_midi(RUN_FOLDER, groove_scores, filename)\n",
    "groove_score = converter.parse(os.path.join(RUN_FOLDER, 'samples/{}.midi'.format(filename)))\n",
    "print('original')\n",
    "gen_score.show()\n",
    "print('groove noise changed')\n",
    "groove_score.show()"
   ]
  },
  {
   "cell_type": "code",
   "execution_count": null,
   "metadata": {},
   "outputs": [],
   "source": []
  }
 ],
 "metadata": {
  "kernelspec": {
   "display_name": "music01",
   "language": "python",
   "name": "music_expr"
  },
  "language_info": {
   "codemirror_mode": {
    "name": "ipython",
    "version": 3
   },
   "file_extension": ".py",
   "mimetype": "text/x-python",
   "name": "python",
   "nbconvert_exporter": "python",
   "pygments_lexer": "ipython3",
   "version": "3.8.10"
  },
  "toc": {
   "base_numbering": 1,
   "nav_menu": {},
   "number_sections": false,
   "sideBar": true,
   "skip_h1_title": false,
   "title_cell": "Table of Contents",
   "title_sidebar": "Contents",
   "toc_cell": false,
   "toc_position": {},
   "toc_section_display": true,
   "toc_window_display": false
  }
 },
 "nbformat": 4,
 "nbformat_minor": 2
}
