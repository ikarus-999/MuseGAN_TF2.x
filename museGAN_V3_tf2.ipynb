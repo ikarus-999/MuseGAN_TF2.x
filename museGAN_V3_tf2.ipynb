{
 "cells": [
  {
   "cell_type": "code",
   "execution_count": 1,
   "metadata": {
    "ExecuteTime": {
     "end_time": "2021-11-11T03:22:44.448231Z",
     "start_time": "2021-11-11T03:22:43.686393Z"
    }
   },
   "outputs": [],
   "source": [
    "import os\n",
    "import numpy as np\n",
    "from pathlib import Path\n",
    "# from music21 import *\n",
    "\n",
    "from tqdm import tqdm\n",
    "import pypianoroll\n",
    "from pypianoroll import Track, Multitrack, BinaryTrack, StandardTrack"
   ]
  },
  {
   "cell_type": "code",
   "execution_count": 2,
   "metadata": {
    "ExecuteTime": {
     "end_time": "2021-11-11T03:22:45.513215Z",
     "start_time": "2021-11-11T03:22:45.508216Z"
    }
   },
   "outputs": [],
   "source": [
    "# Data\n",
    "n_tracks = 5  # number of tracks\n",
    "n_pitches = 84  # number of pitches\n",
    "lowest_pitch = 24  # MIDI note number of the lowest pitch\n",
    "n_samples_per_song = 16  # number of samples to extract from each song in the datset\n",
    "n_measures = 4  # number of measures per sample\n",
    "beat_resolution = 12  # temporal resolution of a beat (in timestep)\n",
    "programs = [0, 0, 25, 33, 48]  # program number for each track\n",
    "is_drums = [True, False, False, False, False]  # drum indicator for each track\n",
    "track_names = ['Drums', 'Piano', 'Guitar', 'Bass', 'Strings']  # name of each track\n",
    "tempo = 120"
   ]
  },
  {
   "cell_type": "code",
   "execution_count": 3,
   "metadata": {
    "ExecuteTime": {
     "end_time": "2021-11-11T03:22:45.653854Z",
     "start_time": "2021-11-11T03:22:45.649617Z"
    }
   },
   "outputs": [],
   "source": [
    "measure_resolution = 4 * beat_resolution\n",
    "tempo_array = np.full((4 * 4 * measure_resolution, 1), tempo)\n",
    "assert 24 % beat_resolution == 0, (\n",
    "    \"beat_resolution must be a factor of 24 (the beat resolution used in \"\n",
    "    \"the source dataset).\"\n",
    ")\n",
    "assert len(programs) == len(is_drums) and len(programs) == len(track_names), (\n",
    "    \"Lengths of programs, is_drums and track_names must be the same.\"\n",
    ") "
   ]
  },
  {
   "cell_type": "code",
   "execution_count": null,
   "metadata": {
    "ExecuteTime": {
     "end_time": "2021-11-07T00:59:52.319657Z",
     "start_time": "2021-11-07T00:59:52.316542Z"
    }
   },
   "outputs": [],
   "source": [
    "# !mkdir -p data\n",
    "\n",
    "# !gdown -O data/lpd_5_cleansed.tar.gz https://drive.google.com/uc?id=1yz0Ma-6cWTl6mhkrLnAVJ7RNzlQRypQ5\n",
    "# !gdown -O data/id_lists_amg.tar.gz https://drive.google.com/uc?id=1hp9b_g1hu_dkP4u8h46iqHeWMaUoI07R\n",
    "# !gdown -O data/id_lists_lastfm.tar.gz https://drive.google.com/uc?id=1mpsoxU2fU1AjKopkcQ8Q8V6wYmVPbnPO\n",
    "\n",
    "# !tar zxf data/lpd_5_cleansed.tar.gz -C data/\n",
    "# !tar zxf data/id_lists_amg.tar.gz -C data/\n",
    "# !tar zxf data/id_lists_lastfm.tar.gz -C data/"
   ]
  },
  {
   "cell_type": "code",
   "execution_count": null,
   "metadata": {
    "ExecuteTime": {
     "end_time": "2021-11-07T00:59:52.452783Z",
     "start_time": "2021-11-07T00:59:52.450111Z"
    }
   },
   "outputs": [],
   "source": [
    "# dataset_root = Path(\"data/lpd_5/lpd_5_cleansed/\")\n",
    "\n",
    "# id_list = []\n",
    "# for path in os.listdir(\"data/amg\"):\n",
    "#     filepath = os.path.join(\"data/amg\", path)\n",
    "#     # print(path)\n",
    "    \n",
    "#     if os.path.isfile(filepath):\n",
    "#         with open(filepath) as f:\n",
    "#             id_list.extend([line.rstrip() for line in f])\n",
    "# id_list = list(set(id_list))"
   ]
  },
  {
   "cell_type": "code",
   "execution_count": null,
   "metadata": {
    "ExecuteTime": {
     "end_time": "2021-11-07T00:59:52.738952Z",
     "start_time": "2021-11-07T00:59:52.736572Z"
    }
   },
   "outputs": [],
   "source": [
    "# def msd_id_to_dirs(msd_id):\n",
    "#     \"\"\"Given an MSD ID, generate the path prefix.\n",
    "#     E.g. TRABCD12345678 -> A/B/C/TRABCD12345678\"\"\"\n",
    "#     return os.path.join(msd_id[2], msd_id[3], msd_id[4], msd_id)"
   ]
  },
  {
   "cell_type": "code",
   "execution_count": null,
   "metadata": {
    "ExecuteTime": {
     "end_time": "2021-11-07T00:59:53.384822Z",
     "start_time": "2021-11-07T00:59:53.381114Z"
    }
   },
   "outputs": [],
   "source": [
    "# data = []\n",
    "# max_num = 5000\n",
    "# unsampled = 0\n",
    "# file_idx = 0\n",
    "# bar_num = 4\n",
    "\n",
    "# for msd_id in tqdm(id_list):\n",
    "#     song_dir = dataset_root / msd_id_to_dirs(msd_id)\n",
    "#     multitrack = pypianoroll.load(song_dir / os.listdir(song_dir)[0])\n",
    "#     multitrack.pad_to_same()\n",
    "#     # (shape: n_timesteps x n_pitches)\n",
    "#     multitrack.set_resolution(beat_resolution)\n",
    "#     # Stack the pianoroll (shape: n_tracks x n_timesteps x n_pitches)\n",
    "#     pianoroll = multitrack.stack()\n",
    "    \n",
    "#     pianoroll = pianoroll[:, :, lowest_pitch:lowest_pitch + n_pitches]\n",
    "    \n",
    "#     # pianoroll = np.pad(pianoroll, ((0, 0), (0,0), (lowest_pitch, 128 - lowest_pitch - n_pitches)))\n",
    "#     n_total_measures = multitrack.get_max_length() // measure_resolution\n",
    "#     candidate = n_total_measures - n_measures\n",
    "#     target_n_samples = min(n_total_measures // n_measures, n_samples_per_song)\n",
    "    \n",
    "#     for idx in np.random.choice(candidate, target_n_samples, False):\n",
    "#         start = idx * measure_resolution\n",
    "#         end = (idx + n_measures) * measure_resolution\n",
    "        \n",
    "#         if (pianoroll.sum(axis=(1, 2)) < 10).any():\n",
    "#             continue\n",
    "        \n",
    "#         #tracks = []\n",
    "#         #for trk, (program, is_drum, track_name) in enumerate(zip(programs, is_drums, track_names)):\n",
    "#         #    tracks.append(StandardTrack(name=track_name, program=program, is_drum=is_drum, pianoroll=(pianoroll[trk, start:end] > 0.5)))\n",
    "#         #multi = Multitrack(tracks=tracks, tempo=tempo_array, resolution=beat_resolution)\n",
    "#         # print(pianoroll[:, start:end].reshape(n_tracks, 4, -1, n_pitches).shape)\n",
    "#         try:\n",
    "#             data.append(pianoroll[:, start:end].reshape(n_tracks, bar_num, -1, n_pitches)) # reshape 48 * 16\n",
    "#         except Exception as e:\n",
    "#             # print(pianoroll[:, start:end].shape, 'Exception')\n",
    "#             unsampled += 1\n",
    "#             pass\n",
    "#         #multi.write(f'./temp_midi_data/dataset_{file_idx}.mid')\n",
    "#     file_idx += 1\n",
    "#     if file_idx > max_num-1:\n",
    "#         print(file_idx)\n",
    "#         break\n",
    "\n",
    "# data = np.stack(data)\n",
    "# print(f\"Successfully collect {len(data)} samples from {len(id_list)} songs\")\n",
    "# print(f\"Data shape : {data.shape}\")\n",
    "# print(f\"unsampled : {unsampled}\")\n",
    "# dataset = data.transpose(0, 2, 3, 4, 1)\n",
    "# print(f'finally dataset {dataset.shape}')"
   ]
  },
  {
   "cell_type": "code",
   "execution_count": null,
   "metadata": {
    "ExecuteTime": {
     "end_time": "2021-11-07T00:59:54.195543Z",
     "start_time": "2021-11-07T00:59:54.192849Z"
    }
   },
   "outputs": [],
   "source": [
    "# dataset.dtype"
   ]
  },
  {
   "cell_type": "code",
   "execution_count": null,
   "metadata": {
    "ExecuteTime": {
     "end_time": "2021-11-07T00:59:54.429539Z",
     "start_time": "2021-11-07T00:59:54.427152Z"
    }
   },
   "outputs": [],
   "source": [
    "# np.save('./run/dataset2.npy', dataset)"
   ]
  },
  {
   "cell_type": "code",
   "execution_count": 4,
   "metadata": {
    "ExecuteTime": {
     "end_time": "2021-11-11T03:22:50.337559Z",
     "start_time": "2021-11-11T03:22:48.056919Z"
    }
   },
   "outputs": [
    {
     "name": "stderr",
     "output_type": "stream",
     "text": [
      "2021-11-11 12:22:48.332332: I tensorflow/stream_executor/platform/default/dso_loader.cc:53] Successfully opened dynamic library libcudart.so.11.0\n"
     ]
    }
   ],
   "source": [
    "import os\n",
    "import matplotlib.pyplot as plt\n",
    "import numpy as np\n",
    "from tensorflow.keras.layers import *\n",
    "from tensorflow.keras.models import Model, Sequential\n",
    "from tensorflow.keras import backend as K\n",
    "from tensorflow.keras.optimizers import RMSprop, Adam\n",
    "from tensorflow.keras.callbacks import ModelCheckpoint\n",
    "from tensorflow.keras.initializers import RandomNormal, TruncatedNormal\n",
    "from IPython import display\n",
    "import pypianoroll\n",
    "from pypianoroll import Multitrack, StandardTrack, BinaryTrack\n",
    "import muspy\n",
    "import tensorflow as tf\n",
    "import random\n",
    "os.environ['TF_FORCE_GPU_ALLOW_GROWTH'] = 'true'"
   ]
  },
  {
   "cell_type": "code",
   "execution_count": 5,
   "metadata": {
    "ExecuteTime": {
     "end_time": "2021-11-11T03:22:52.034058Z",
     "start_time": "2021-11-11T03:22:50.358066Z"
    }
   },
   "outputs": [
    {
     "name": "stdout",
     "output_type": "stream",
     "text": [
      "WARNING:tensorflow:Collective ops is not configured at program startup. Some performance features may not be enabled.\n",
      "INFO:tensorflow:Using MirroredStrategy with devices ('/job:localhost/replica:0/task:0/device:GPU:0', '/job:localhost/replica:0/task:0/device:GPU:1')\n",
      "분산환경 사용 >> GPU: 2\n"
     ]
    },
    {
     "name": "stderr",
     "output_type": "stream",
     "text": [
      "2021-11-11 12:22:50.362434: I tensorflow/stream_executor/platform/default/dso_loader.cc:53] Successfully opened dynamic library libcuda.so.1\n",
      "2021-11-11 12:22:50.487453: I tensorflow/stream_executor/cuda/cuda_gpu_executor.cc:937] successful NUMA node read from SysFS had negative value (-1), but there must be at least one NUMA node, so returning NUMA node zero\n",
      "2021-11-11 12:22:50.488706: I tensorflow/core/common_runtime/gpu/gpu_device.cc:1733] Found device 0 with properties: \n",
      "pciBusID: 0000:00:05.0 name: Tesla V100-SXM2-32GB computeCapability: 7.0\n",
      "coreClock: 1.53GHz coreCount: 80 deviceMemorySize: 31.72GiB deviceMemoryBandwidth: 836.37GiB/s\n",
      "2021-11-11 12:22:50.488838: I tensorflow/stream_executor/cuda/cuda_gpu_executor.cc:937] successful NUMA node read from SysFS had negative value (-1), but there must be at least one NUMA node, so returning NUMA node zero\n",
      "2021-11-11 12:22:50.490017: I tensorflow/core/common_runtime/gpu/gpu_device.cc:1733] Found device 1 with properties: \n",
      "pciBusID: 0000:00:06.0 name: Tesla V100-SXM2-32GB computeCapability: 7.0\n",
      "coreClock: 1.53GHz coreCount: 80 deviceMemorySize: 31.72GiB deviceMemoryBandwidth: 836.37GiB/s\n",
      "2021-11-11 12:22:50.490058: I tensorflow/stream_executor/platform/default/dso_loader.cc:53] Successfully opened dynamic library libcudart.so.11.0\n",
      "2021-11-11 12:22:50.494260: I tensorflow/stream_executor/platform/default/dso_loader.cc:53] Successfully opened dynamic library libcublas.so.11\n",
      "2021-11-11 12:22:50.494360: I tensorflow/stream_executor/platform/default/dso_loader.cc:53] Successfully opened dynamic library libcublasLt.so.11\n",
      "2021-11-11 12:22:50.495577: I tensorflow/stream_executor/platform/default/dso_loader.cc:53] Successfully opened dynamic library libcufft.so.10\n",
      "2021-11-11 12:22:50.495909: I tensorflow/stream_executor/platform/default/dso_loader.cc:53] Successfully opened dynamic library libcurand.so.10\n",
      "2021-11-11 12:22:50.499774: I tensorflow/stream_executor/platform/default/dso_loader.cc:53] Successfully opened dynamic library libcusolver.so.11\n",
      "2021-11-11 12:22:50.500742: I tensorflow/stream_executor/platform/default/dso_loader.cc:53] Successfully opened dynamic library libcusparse.so.11\n",
      "2021-11-11 12:22:50.500967: I tensorflow/stream_executor/platform/default/dso_loader.cc:53] Successfully opened dynamic library libcudnn.so.8\n",
      "2021-11-11 12:22:50.501105: I tensorflow/stream_executor/cuda/cuda_gpu_executor.cc:937] successful NUMA node read from SysFS had negative value (-1), but there must be at least one NUMA node, so returning NUMA node zero\n",
      "2021-11-11 12:22:50.502401: I tensorflow/stream_executor/cuda/cuda_gpu_executor.cc:937] successful NUMA node read from SysFS had negative value (-1), but there must be at least one NUMA node, so returning NUMA node zero\n",
      "2021-11-11 12:22:50.503642: I tensorflow/stream_executor/cuda/cuda_gpu_executor.cc:937] successful NUMA node read from SysFS had negative value (-1), but there must be at least one NUMA node, so returning NUMA node zero\n",
      "2021-11-11 12:22:50.504906: I tensorflow/stream_executor/cuda/cuda_gpu_executor.cc:937] successful NUMA node read from SysFS had negative value (-1), but there must be at least one NUMA node, so returning NUMA node zero\n",
      "2021-11-11 12:22:50.506077: I tensorflow/core/common_runtime/gpu/gpu_device.cc:1871] Adding visible gpu devices: 0, 1\n",
      "2021-11-11 12:22:50.506941: I tensorflow/core/platform/cpu_feature_guard.cc:142] This TensorFlow binary is optimized with oneAPI Deep Neural Network Library (oneDNN) to use the following CPU instructions in performance-critical operations:  AVX2 FMA\n",
      "To enable them in other operations, rebuild TensorFlow with the appropriate compiler flags.\n",
      "2021-11-11 12:22:50.712377: I tensorflow/stream_executor/cuda/cuda_gpu_executor.cc:937] successful NUMA node read from SysFS had negative value (-1), but there must be at least one NUMA node, so returning NUMA node zero\n",
      "2021-11-11 12:22:50.713602: I tensorflow/core/common_runtime/gpu/gpu_device.cc:1733] Found device 0 with properties: \n",
      "pciBusID: 0000:00:05.0 name: Tesla V100-SXM2-32GB computeCapability: 7.0\n",
      "coreClock: 1.53GHz coreCount: 80 deviceMemorySize: 31.72GiB deviceMemoryBandwidth: 836.37GiB/s\n",
      "2021-11-11 12:22:50.713745: I tensorflow/stream_executor/cuda/cuda_gpu_executor.cc:937] successful NUMA node read from SysFS had negative value (-1), but there must be at least one NUMA node, so returning NUMA node zero\n",
      "2021-11-11 12:22:50.714923: I tensorflow/core/common_runtime/gpu/gpu_device.cc:1733] Found device 1 with properties: \n",
      "pciBusID: 0000:00:06.0 name: Tesla V100-SXM2-32GB computeCapability: 7.0\n",
      "coreClock: 1.53GHz coreCount: 80 deviceMemorySize: 31.72GiB deviceMemoryBandwidth: 836.37GiB/s\n",
      "2021-11-11 12:22:50.715002: I tensorflow/stream_executor/cuda/cuda_gpu_executor.cc:937] successful NUMA node read from SysFS had negative value (-1), but there must be at least one NUMA node, so returning NUMA node zero\n",
      "2021-11-11 12:22:50.716219: I tensorflow/stream_executor/cuda/cuda_gpu_executor.cc:937] successful NUMA node read from SysFS had negative value (-1), but there must be at least one NUMA node, so returning NUMA node zero\n",
      "2021-11-11 12:22:50.717466: I tensorflow/stream_executor/cuda/cuda_gpu_executor.cc:937] successful NUMA node read from SysFS had negative value (-1), but there must be at least one NUMA node, so returning NUMA node zero\n",
      "2021-11-11 12:22:50.718682: I tensorflow/stream_executor/cuda/cuda_gpu_executor.cc:937] successful NUMA node read from SysFS had negative value (-1), but there must be at least one NUMA node, so returning NUMA node zero\n",
      "2021-11-11 12:22:50.719853: I tensorflow/core/common_runtime/gpu/gpu_device.cc:1871] Adding visible gpu devices: 0, 1\n",
      "2021-11-11 12:22:50.719970: I tensorflow/stream_executor/platform/default/dso_loader.cc:53] Successfully opened dynamic library libcudart.so.11.0\n",
      "2021-11-11 12:22:52.011151: I tensorflow/core/common_runtime/gpu/gpu_device.cc:1258] Device interconnect StreamExecutor with strength 1 edge matrix:\n",
      "2021-11-11 12:22:52.011184: I tensorflow/core/common_runtime/gpu/gpu_device.cc:1264]      0 1 \n",
      "2021-11-11 12:22:52.011191: I tensorflow/core/common_runtime/gpu/gpu_device.cc:1277] 0:   N Y \n",
      "2021-11-11 12:22:52.011195: I tensorflow/core/common_runtime/gpu/gpu_device.cc:1277] 1:   Y N \n",
      "2021-11-11 12:22:52.011555: I tensorflow/stream_executor/cuda/cuda_gpu_executor.cc:937] successful NUMA node read from SysFS had negative value (-1), but there must be at least one NUMA node, so returning NUMA node zero\n",
      "2021-11-11 12:22:52.012988: I tensorflow/stream_executor/cuda/cuda_gpu_executor.cc:937] successful NUMA node read from SysFS had negative value (-1), but there must be at least one NUMA node, so returning NUMA node zero\n",
      "2021-11-11 12:22:52.014241: I tensorflow/stream_executor/cuda/cuda_gpu_executor.cc:937] successful NUMA node read from SysFS had negative value (-1), but there must be at least one NUMA node, so returning NUMA node zero\n",
      "2021-11-11 12:22:52.015482: I tensorflow/stream_executor/cuda/cuda_gpu_executor.cc:937] successful NUMA node read from SysFS had negative value (-1), but there must be at least one NUMA node, so returning NUMA node zero\n",
      "2021-11-11 12:22:52.016750: I tensorflow/stream_executor/cuda/cuda_gpu_executor.cc:937] successful NUMA node read from SysFS had negative value (-1), but there must be at least one NUMA node, so returning NUMA node zero\n",
      "2021-11-11 12:22:52.017930: W tensorflow/core/common_runtime/gpu/gpu_bfc_allocator.cc:39] Overriding allow_growth setting because the TF_FORCE_GPU_ALLOW_GROWTH environment variable is set. Original config value was 0.\n",
      "2021-11-11 12:22:52.017967: I tensorflow/core/common_runtime/gpu/gpu_device.cc:1418] Created TensorFlow device (/job:localhost/replica:0/task:0/device:GPU:0 with 30956 MB memory) -> physical GPU (device: 0, name: Tesla V100-SXM2-32GB, pci bus id: 0000:00:05.0, compute capability: 7.0)\n",
      "2021-11-11 12:22:52.018605: I tensorflow/stream_executor/cuda/cuda_gpu_executor.cc:937] successful NUMA node read from SysFS had negative value (-1), but there must be at least one NUMA node, so returning NUMA node zero\n",
      "2021-11-11 12:22:52.019797: W tensorflow/core/common_runtime/gpu/gpu_bfc_allocator.cc:39] Overriding allow_growth setting because the TF_FORCE_GPU_ALLOW_GROWTH environment variable is set. Original config value was 0.\n",
      "2021-11-11 12:22:52.019824: I tensorflow/core/common_runtime/gpu/gpu_device.cc:1418] Created TensorFlow device (/job:localhost/replica:0/task:0/device:GPU:1 with 30956 MB memory) -> physical GPU (device: 1, name: Tesla V100-SXM2-32GB, pci bus id: 0000:00:06.0, compute capability: 7.0)\n"
     ]
    }
   ],
   "source": [
    "strategy = tf.distribute.MirroredStrategy()\n",
    "FLAG = True\n",
    "if strategy.num_replicas_in_sync  > 1 and FLAG:\n",
    "    MULTIPLE_BATCH = strategy.num_replicas_in_sync\n",
    "    print(f'분산환경 사용 >> GPU: {MULTIPLE_BATCH}')\n",
    "else:\n",
    "    print(f'분산환경 미사용')\n",
    "    MULTIPLE_BATCH = 1"
   ]
  },
  {
   "cell_type": "code",
   "execution_count": 6,
   "metadata": {
    "ExecuteTime": {
     "end_time": "2021-11-11T03:22:52.057641Z",
     "start_time": "2021-11-11T03:22:52.054248Z"
    }
   },
   "outputs": [],
   "source": [
    "def seed_everything(seed: int = 42):\n",
    "    random.seed(seed)\n",
    "    np.random.seed(seed)\n",
    "    os.environ[\"PYTHONHASHSEED\"] = str(seed)\n",
    "    tf.random.set_seed(seed)"
   ]
  },
  {
   "cell_type": "code",
   "execution_count": 7,
   "metadata": {
    "ExecuteTime": {
     "end_time": "2021-11-11T03:22:52.081429Z",
     "start_time": "2021-11-11T03:22:52.078662Z"
    }
   },
   "outputs": [],
   "source": [
    "seed_everything(4405)"
   ]
  },
  {
   "cell_type": "code",
   "execution_count": 8,
   "metadata": {
    "ExecuteTime": {
     "end_time": "2021-11-11T03:22:58.955013Z",
     "start_time": "2021-11-11T03:22:58.947765Z"
    }
   },
   "outputs": [],
   "source": [
    "# run params\n",
    "SECTION = 'compose'\n",
    "RUN_ID = '22'\n",
    "DATA_NAME = 'lpd_5'\n",
    "RUN_FOLDER = f'run/{SECTION}/'\n",
    "RUN_FOLDER += '_'.join([RUN_ID, DATA_NAME])\n",
    "\n",
    "if not os.path.exists(RUN_FOLDER):\n",
    "    os.makedirs(RUN_FOLDER)\n",
    "    os.makedirs(os.path.join(RUN_FOLDER, 'viz'))\n",
    "    os.makedirs(os.path.join(RUN_FOLDER, 'images'))\n",
    "    os.makedirs(os.path.join(RUN_FOLDER, 'weights'))\n",
    "    os.makedirs(os.path.join(RUN_FOLDER, 'samples'))\n",
    "    os.makedirs(os.path.join(RUN_FOLDER, 'sample_data'))"
   ]
  },
  {
   "cell_type": "code",
   "execution_count": 9,
   "metadata": {
    "ExecuteTime": {
     "end_time": "2021-11-11T03:22:59.320110Z",
     "start_time": "2021-11-11T03:22:59.316882Z"
    }
   },
   "outputs": [],
   "source": [
    "input_dim = (4, 48, 84, 5)\n",
    "beat_resolution = 12\n",
    "latent_dim = 128\n",
    "condition_track_idx = 1\n",
    "n_tracks = 5"
   ]
  },
  {
   "cell_type": "code",
   "execution_count": 10,
   "metadata": {
    "ExecuteTime": {
     "end_time": "2021-11-11T03:22:59.959631Z",
     "start_time": "2021-11-11T03:22:59.938643Z"
    }
   },
   "outputs": [],
   "source": [
    "CONV_KERNEL_INIT = TruncatedNormal(stddev=0.05)\n",
    "DENSE_KERNEL_INIT = TruncatedNormal(stddev=0.05)\n",
    "\n",
    "def conv_layer( i, f, k, s, a='relu', bn=True):\n",
    "        x = Conv3D(filters=f, kernel_size=k,\n",
    "        strides=s, kernel_initializer=CONV_KERNEL_INIT)(i)\n",
    "        if bn:\n",
    "            x = BatchNormalization()(x)\n",
    "        if a=='relu':\n",
    "            x = Activation(a)(x)\n",
    "        if a=='lrelu':\n",
    "            x = LeakyReLU()(x)\n",
    "        return x\n",
    "\n",
    "def tconv_c( i, c, f, k, s, a='relu', bn=True):\n",
    "    x = Conv3DTranspose(filters=f, kernel_size=k,\n",
    "    strides=s, kernel_initializer=CONV_KERNEL_INIT)( tf.concat((i, c), -1) )\n",
    "    if bn:\n",
    "        x = BatchNormalization()(x)\n",
    "    if a=='relu':\n",
    "        x = Activation(a)(x)\n",
    "    if a=='lrelu':\n",
    "        x = LeakyReLU()(x)\n",
    "\n",
    "    return x\n",
    "\n",
    "def build_gen():\n",
    "    n_track = n_tracks - 1\n",
    "    c = Input(shape=(input_dim[:-1]+(1,)))\n",
    "    input_z = Input(shape=latent_dim)\n",
    "\n",
    "    # encoder_pitch_time\n",
    "    pt_1 = conv_layer(c, f=16, k=(1, 1, 12), s=(1, 1, 12))\n",
    "    pt_2 = conv_layer(pt_1, f=32, k=(1, 3, 1), s=(1, 3, 1))\n",
    "\n",
    "    # encoder_time_pitch\n",
    "    tp_1 = conv_layer(c, f=16, k=(1, 3, 1), s=(1, 3, 1))\n",
    "    tp_2 = conv_layer(tp_1, f=32, k=(1, 1, 12), s=(1, 1, 12))\n",
    "\n",
    "    # shared = tf.concat((tp_2, pt_2), -1)\n",
    "    shared = Concatenate(axis=-1)([tp_2, pt_2])\n",
    "\n",
    "    # encoder_shared\n",
    "    s1 = conv_layer(shared, f=64, k=(1, 4, 3), s=(1, 4, 2))\n",
    "    s2 = conv_layer(s1, f=128, k=(1, 4, 3), s=(1, 4, 3))\n",
    "    s3 = conv_layer(s2, f=256, k=(4, 1, 1), s=(4, 1, 1))\n",
    "\n",
    "    # ---------------generator ------------------------------\n",
    "    h = input_z\n",
    "    h = tf.expand_dims(  tf.expand_dims(   tf.expand_dims(  h,  1 ) , 1 ) , 1 )\n",
    "\n",
    "    # shared\n",
    "    h = tconv_c(h, s3, f=512, k=(4, 1, 1), s=(4, 1, 1))\n",
    "    h = tconv_c(h, s2, f=256, k=(1, 4, 3), s=(1, 4, 3))\n",
    "    h = tconv_c(h, s1, f=128, k=(1, 4, 3), s=(1, 4, 2))\n",
    "\n",
    "    # pitch-time-private\n",
    "    s1 = [tconv_c(h, tp_2, f=32, k=(1, 1, 12), s=(1, 1, 12)) for _ in range(n_track)]\n",
    "    # 4, 16, 84\n",
    "    s1 = [tconv_c(s1[i], tp_1, f=16, k=(1, 3, 1), s=(1, 3, 1)) for i in range(n_track)]\n",
    "    # 4, 48, 84\n",
    "\n",
    "    # Time-pitch_private\n",
    "    s2 = [tconv_c(h, pt_2, f=32, k=(1, 3, 1), s=(1, 3, 1)) for _ in range(n_track)]\n",
    "    # 4, 48, 7\n",
    "    s2 = [tconv_c(s2[i], pt_1, f=16, k=(1, 1, 12), s=(1, 1, 12)) for i in range(n_track)]\n",
    "    # 4, 48, 84\n",
    "\n",
    "    h = [tf.concat((s1[i], s2[i]), -1) for i in range(n_track)]\n",
    "\n",
    "    tconv3d = lambda i, f, k, s: Conv3DTranspose(filters=f, kernel_size=k, strides=s, \n",
    "                                                    kernel_initializer=CONV_KERNEL_INIT, activation='tanh')(i)\n",
    "    batchNorm = lambda x: BatchNormalization(trainable=True)(x)\n",
    "    # merge private net\n",
    "    h = [ batchNorm(tconv3d(h[i], f=1, k=(1, 1, 1), s=(1, 1, 1))) for i in range(n_track)  ] # 4, 48, 84\n",
    "\n",
    "    out = tf.concat((h[:condition_track_idx] + [c] + h[condition_track_idx:]), -1)\n",
    "    return Model([c, input_z], out)"
   ]
  },
  {
   "cell_type": "code",
   "execution_count": 11,
   "metadata": {
    "ExecuteTime": {
     "end_time": "2021-11-11T03:23:01.988127Z",
     "start_time": "2021-11-11T03:23:00.376067Z"
    }
   },
   "outputs": [
    {
     "name": "stdout",
     "output_type": "stream",
     "text": [
      "INFO:tensorflow:Reduce to /job:localhost/replica:0/task:0/device:CPU:0 then broadcast to ('/job:localhost/replica:0/task:0/device:CPU:0',).\n",
      "INFO:tensorflow:Reduce to /job:localhost/replica:0/task:0/device:CPU:0 then broadcast to ('/job:localhost/replica:0/task:0/device:CPU:0',).\n",
      "INFO:tensorflow:Reduce to /job:localhost/replica:0/task:0/device:CPU:0 then broadcast to ('/job:localhost/replica:0/task:0/device:CPU:0',).\n",
      "INFO:tensorflow:Reduce to /job:localhost/replica:0/task:0/device:CPU:0 then broadcast to ('/job:localhost/replica:0/task:0/device:CPU:0',).\n",
      "INFO:tensorflow:Reduce to /job:localhost/replica:0/task:0/device:CPU:0 then broadcast to ('/job:localhost/replica:0/task:0/device:CPU:0',).\n",
      "INFO:tensorflow:Reduce to /job:localhost/replica:0/task:0/device:CPU:0 then broadcast to ('/job:localhost/replica:0/task:0/device:CPU:0',).\n",
      "INFO:tensorflow:Reduce to /job:localhost/replica:0/task:0/device:CPU:0 then broadcast to ('/job:localhost/replica:0/task:0/device:CPU:0',).\n",
      "INFO:tensorflow:Reduce to /job:localhost/replica:0/task:0/device:CPU:0 then broadcast to ('/job:localhost/replica:0/task:0/device:CPU:0',).\n",
      "INFO:tensorflow:Reduce to /job:localhost/replica:0/task:0/device:CPU:0 then broadcast to ('/job:localhost/replica:0/task:0/device:CPU:0',).\n",
      "INFO:tensorflow:Reduce to /job:localhost/replica:0/task:0/device:CPU:0 then broadcast to ('/job:localhost/replica:0/task:0/device:CPU:0',).\n",
      "Model: \"model\"\n",
      "__________________________________________________________________________________________________\n",
      "Layer (type)                    Output Shape         Param #     Connected to                     \n",
      "==================================================================================================\n",
      "input_1 (InputLayer)            [(None, 4, 48, 84, 1 0                                            \n",
      "__________________________________________________________________________________________________\n",
      "conv3d_2 (Conv3D)               (None, 4, 16, 84, 16 64          input_1[0][0]                    \n",
      "__________________________________________________________________________________________________\n",
      "conv3d (Conv3D)                 (None, 4, 48, 7, 16) 208         input_1[0][0]                    \n",
      "__________________________________________________________________________________________________\n",
      "batch_normalization_2 (BatchNor (None, 4, 16, 84, 16 64          conv3d_2[0][0]                   \n",
      "__________________________________________________________________________________________________\n",
      "batch_normalization (BatchNorma (None, 4, 48, 7, 16) 64          conv3d[0][0]                     \n",
      "__________________________________________________________________________________________________\n",
      "activation_2 (Activation)       (None, 4, 16, 84, 16 0           batch_normalization_2[0][0]      \n",
      "__________________________________________________________________________________________________\n",
      "activation (Activation)         (None, 4, 48, 7, 16) 0           batch_normalization[0][0]        \n",
      "__________________________________________________________________________________________________\n",
      "conv3d_3 (Conv3D)               (None, 4, 16, 7, 32) 6176        activation_2[0][0]               \n",
      "__________________________________________________________________________________________________\n",
      "conv3d_1 (Conv3D)               (None, 4, 16, 7, 32) 1568        activation[0][0]                 \n",
      "__________________________________________________________________________________________________\n",
      "batch_normalization_3 (BatchNor (None, 4, 16, 7, 32) 128         conv3d_3[0][0]                   \n",
      "__________________________________________________________________________________________________\n",
      "batch_normalization_1 (BatchNor (None, 4, 16, 7, 32) 128         conv3d_1[0][0]                   \n",
      "__________________________________________________________________________________________________\n",
      "activation_3 (Activation)       (None, 4, 16, 7, 32) 0           batch_normalization_3[0][0]      \n",
      "__________________________________________________________________________________________________\n",
      "activation_1 (Activation)       (None, 4, 16, 7, 32) 0           batch_normalization_1[0][0]      \n",
      "__________________________________________________________________________________________________\n",
      "concatenate (Concatenate)       (None, 4, 16, 7, 64) 0           activation_3[0][0]               \n",
      "                                                                 activation_1[0][0]               \n",
      "__________________________________________________________________________________________________\n",
      "conv3d_4 (Conv3D)               (None, 4, 4, 3, 64)  49216       concatenate[0][0]                \n",
      "__________________________________________________________________________________________________\n",
      "batch_normalization_4 (BatchNor (None, 4, 4, 3, 64)  256         conv3d_4[0][0]                   \n",
      "__________________________________________________________________________________________________\n",
      "activation_4 (Activation)       (None, 4, 4, 3, 64)  0           batch_normalization_4[0][0]      \n",
      "__________________________________________________________________________________________________\n",
      "conv3d_5 (Conv3D)               (None, 4, 1, 1, 128) 98432       activation_4[0][0]               \n",
      "__________________________________________________________________________________________________\n",
      "batch_normalization_5 (BatchNor (None, 4, 1, 1, 128) 512         conv3d_5[0][0]                   \n",
      "__________________________________________________________________________________________________\n",
      "input_2 (InputLayer)            [(None, 128)]        0                                            \n",
      "__________________________________________________________________________________________________\n",
      "activation_5 (Activation)       (None, 4, 1, 1, 128) 0           batch_normalization_5[0][0]      \n",
      "__________________________________________________________________________________________________\n",
      "tf.expand_dims (TFOpLambda)     (None, 1, 128)       0           input_2[0][0]                    \n",
      "__________________________________________________________________________________________________\n",
      "conv3d_6 (Conv3D)               (None, 1, 1, 1, 256) 131328      activation_5[0][0]               \n",
      "__________________________________________________________________________________________________\n",
      "tf.expand_dims_1 (TFOpLambda)   (None, 1, 1, 128)    0           tf.expand_dims[0][0]             \n",
      "__________________________________________________________________________________________________\n",
      "batch_normalization_6 (BatchNor (None, 1, 1, 1, 256) 1024        conv3d_6[0][0]                   \n",
      "__________________________________________________________________________________________________\n",
      "tf.expand_dims_2 (TFOpLambda)   (None, 1, 1, 1, 128) 0           tf.expand_dims_1[0][0]           \n",
      "__________________________________________________________________________________________________\n",
      "activation_6 (Activation)       (None, 1, 1, 1, 256) 0           batch_normalization_6[0][0]      \n",
      "__________________________________________________________________________________________________\n",
      "tf.concat (TFOpLambda)          (None, 1, 1, 1, 384) 0           tf.expand_dims_2[0][0]           \n",
      "                                                                 activation_6[0][0]               \n",
      "__________________________________________________________________________________________________\n",
      "conv3d_transpose (Conv3DTranspo (None, 4, 1, 1, 512) 786944      tf.concat[0][0]                  \n",
      "__________________________________________________________________________________________________\n",
      "batch_normalization_7 (BatchNor (None, 4, 1, 1, 512) 2048        conv3d_transpose[0][0]           \n",
      "__________________________________________________________________________________________________\n",
      "activation_7 (Activation)       (None, 4, 1, 1, 512) 0           batch_normalization_7[0][0]      \n",
      "__________________________________________________________________________________________________\n",
      "tf.concat_1 (TFOpLambda)        (None, 4, 1, 1, 640) 0           activation_7[0][0]               \n",
      "                                                                 activation_5[0][0]               \n",
      "__________________________________________________________________________________________________\n",
      "conv3d_transpose_1 (Conv3DTrans (None, 4, 4, 3, 256) 1966336     tf.concat_1[0][0]                \n",
      "__________________________________________________________________________________________________\n",
      "batch_normalization_8 (BatchNor (None, 4, 4, 3, 256) 1024        conv3d_transpose_1[0][0]         \n",
      "__________________________________________________________________________________________________\n",
      "activation_8 (Activation)       (None, 4, 4, 3, 256) 0           batch_normalization_8[0][0]      \n",
      "__________________________________________________________________________________________________\n",
      "tf.concat_2 (TFOpLambda)        (None, 4, 4, 3, 320) 0           activation_8[0][0]               \n",
      "                                                                 activation_4[0][0]               \n",
      "__________________________________________________________________________________________________\n",
      "conv3d_transpose_2 (Conv3DTrans (None, 4, 16, 7, 128 491648      tf.concat_2[0][0]                \n",
      "__________________________________________________________________________________________________\n",
      "batch_normalization_9 (BatchNor (None, 4, 16, 7, 128 512         conv3d_transpose_2[0][0]         \n",
      "__________________________________________________________________________________________________\n",
      "activation_9 (Activation)       (None, 4, 16, 7, 128 0           batch_normalization_9[0][0]      \n",
      "__________________________________________________________________________________________________\n",
      "tf.concat_3 (TFOpLambda)        (None, 4, 16, 7, 160 0           activation_9[0][0]               \n",
      "                                                                 activation_3[0][0]               \n",
      "__________________________________________________________________________________________________\n",
      "tf.concat_11 (TFOpLambda)       (None, 4, 16, 7, 160 0           activation_9[0][0]               \n",
      "                                                                 activation_1[0][0]               \n",
      "__________________________________________________________________________________________________\n",
      "tf.concat_4 (TFOpLambda)        (None, 4, 16, 7, 160 0           activation_9[0][0]               \n",
      "                                                                 activation_3[0][0]               \n",
      "__________________________________________________________________________________________________\n",
      "tf.concat_12 (TFOpLambda)       (None, 4, 16, 7, 160 0           activation_9[0][0]               \n",
      "                                                                 activation_1[0][0]               \n",
      "__________________________________________________________________________________________________\n",
      "tf.concat_5 (TFOpLambda)        (None, 4, 16, 7, 160 0           activation_9[0][0]               \n",
      "                                                                 activation_3[0][0]               \n",
      "__________________________________________________________________________________________________\n",
      "tf.concat_13 (TFOpLambda)       (None, 4, 16, 7, 160 0           activation_9[0][0]               \n",
      "                                                                 activation_1[0][0]               \n",
      "__________________________________________________________________________________________________\n",
      "tf.concat_6 (TFOpLambda)        (None, 4, 16, 7, 160 0           activation_9[0][0]               \n",
      "                                                                 activation_3[0][0]               \n",
      "__________________________________________________________________________________________________\n",
      "tf.concat_14 (TFOpLambda)       (None, 4, 16, 7, 160 0           activation_9[0][0]               \n",
      "                                                                 activation_1[0][0]               \n",
      "__________________________________________________________________________________________________\n",
      "conv3d_transpose_3 (Conv3DTrans (None, 4, 16, 84, 32 61472       tf.concat_3[0][0]                \n",
      "__________________________________________________________________________________________________\n",
      "conv3d_transpose_11 (Conv3DTran (None, 4, 48, 7, 32) 15392       tf.concat_11[0][0]               \n",
      "__________________________________________________________________________________________________\n",
      "conv3d_transpose_4 (Conv3DTrans (None, 4, 16, 84, 32 61472       tf.concat_4[0][0]                \n",
      "__________________________________________________________________________________________________\n",
      "conv3d_transpose_12 (Conv3DTran (None, 4, 48, 7, 32) 15392       tf.concat_12[0][0]               \n",
      "__________________________________________________________________________________________________\n",
      "conv3d_transpose_5 (Conv3DTrans (None, 4, 16, 84, 32 61472       tf.concat_5[0][0]                \n",
      "__________________________________________________________________________________________________\n",
      "conv3d_transpose_13 (Conv3DTran (None, 4, 48, 7, 32) 15392       tf.concat_13[0][0]               \n",
      "__________________________________________________________________________________________________\n",
      "conv3d_transpose_6 (Conv3DTrans (None, 4, 16, 84, 32 61472       tf.concat_6[0][0]                \n",
      "__________________________________________________________________________________________________\n",
      "conv3d_transpose_14 (Conv3DTran (None, 4, 48, 7, 32) 15392       tf.concat_14[0][0]               \n",
      "__________________________________________________________________________________________________\n",
      "batch_normalization_10 (BatchNo (None, 4, 16, 84, 32 128         conv3d_transpose_3[0][0]         \n",
      "__________________________________________________________________________________________________\n",
      "batch_normalization_18 (BatchNo (None, 4, 48, 7, 32) 128         conv3d_transpose_11[0][0]        \n",
      "__________________________________________________________________________________________________\n",
      "batch_normalization_11 (BatchNo (None, 4, 16, 84, 32 128         conv3d_transpose_4[0][0]         \n",
      "__________________________________________________________________________________________________\n",
      "batch_normalization_19 (BatchNo (None, 4, 48, 7, 32) 128         conv3d_transpose_12[0][0]        \n",
      "__________________________________________________________________________________________________\n",
      "batch_normalization_12 (BatchNo (None, 4, 16, 84, 32 128         conv3d_transpose_5[0][0]         \n",
      "__________________________________________________________________________________________________\n",
      "batch_normalization_20 (BatchNo (None, 4, 48, 7, 32) 128         conv3d_transpose_13[0][0]        \n",
      "__________________________________________________________________________________________________\n",
      "batch_normalization_13 (BatchNo (None, 4, 16, 84, 32 128         conv3d_transpose_6[0][0]         \n",
      "__________________________________________________________________________________________________\n",
      "batch_normalization_21 (BatchNo (None, 4, 48, 7, 32) 128         conv3d_transpose_14[0][0]        \n",
      "__________________________________________________________________________________________________\n",
      "activation_10 (Activation)      (None, 4, 16, 84, 32 0           batch_normalization_10[0][0]     \n",
      "__________________________________________________________________________________________________\n",
      "activation_18 (Activation)      (None, 4, 48, 7, 32) 0           batch_normalization_18[0][0]     \n",
      "__________________________________________________________________________________________________\n",
      "activation_11 (Activation)      (None, 4, 16, 84, 32 0           batch_normalization_11[0][0]     \n",
      "__________________________________________________________________________________________________\n",
      "activation_19 (Activation)      (None, 4, 48, 7, 32) 0           batch_normalization_19[0][0]     \n",
      "__________________________________________________________________________________________________\n",
      "activation_12 (Activation)      (None, 4, 16, 84, 32 0           batch_normalization_12[0][0]     \n",
      "__________________________________________________________________________________________________\n",
      "activation_20 (Activation)      (None, 4, 48, 7, 32) 0           batch_normalization_20[0][0]     \n",
      "__________________________________________________________________________________________________\n",
      "activation_13 (Activation)      (None, 4, 16, 84, 32 0           batch_normalization_13[0][0]     \n",
      "__________________________________________________________________________________________________\n",
      "activation_21 (Activation)      (None, 4, 48, 7, 32) 0           batch_normalization_21[0][0]     \n",
      "__________________________________________________________________________________________________\n",
      "tf.concat_7 (TFOpLambda)        (None, 4, 16, 84, 48 0           activation_10[0][0]              \n",
      "                                                                 activation_2[0][0]               \n",
      "__________________________________________________________________________________________________\n",
      "tf.concat_15 (TFOpLambda)       (None, 4, 48, 7, 48) 0           activation_18[0][0]              \n",
      "                                                                 activation[0][0]                 \n",
      "__________________________________________________________________________________________________\n",
      "tf.concat_8 (TFOpLambda)        (None, 4, 16, 84, 48 0           activation_11[0][0]              \n",
      "                                                                 activation_2[0][0]               \n",
      "__________________________________________________________________________________________________\n",
      "tf.concat_16 (TFOpLambda)       (None, 4, 48, 7, 48) 0           activation_19[0][0]              \n",
      "                                                                 activation[0][0]                 \n",
      "__________________________________________________________________________________________________\n",
      "tf.concat_9 (TFOpLambda)        (None, 4, 16, 84, 48 0           activation_12[0][0]              \n",
      "                                                                 activation_2[0][0]               \n",
      "__________________________________________________________________________________________________\n",
      "tf.concat_17 (TFOpLambda)       (None, 4, 48, 7, 48) 0           activation_20[0][0]              \n",
      "                                                                 activation[0][0]                 \n",
      "__________________________________________________________________________________________________\n",
      "tf.concat_10 (TFOpLambda)       (None, 4, 16, 84, 48 0           activation_13[0][0]              \n",
      "                                                                 activation_2[0][0]               \n",
      "__________________________________________________________________________________________________\n",
      "tf.concat_18 (TFOpLambda)       (None, 4, 48, 7, 48) 0           activation_21[0][0]              \n",
      "                                                                 activation[0][0]                 \n",
      "__________________________________________________________________________________________________\n",
      "conv3d_transpose_7 (Conv3DTrans (None, 4, 48, 84, 16 2320        tf.concat_7[0][0]                \n",
      "__________________________________________________________________________________________________\n",
      "conv3d_transpose_15 (Conv3DTran (None, 4, 48, 84, 16 9232        tf.concat_15[0][0]               \n",
      "__________________________________________________________________________________________________\n",
      "conv3d_transpose_8 (Conv3DTrans (None, 4, 48, 84, 16 2320        tf.concat_8[0][0]                \n",
      "__________________________________________________________________________________________________\n",
      "conv3d_transpose_16 (Conv3DTran (None, 4, 48, 84, 16 9232        tf.concat_16[0][0]               \n",
      "__________________________________________________________________________________________________\n",
      "conv3d_transpose_9 (Conv3DTrans (None, 4, 48, 84, 16 2320        tf.concat_9[0][0]                \n",
      "__________________________________________________________________________________________________\n",
      "conv3d_transpose_17 (Conv3DTran (None, 4, 48, 84, 16 9232        tf.concat_17[0][0]               \n",
      "__________________________________________________________________________________________________\n",
      "conv3d_transpose_10 (Conv3DTran (None, 4, 48, 84, 16 2320        tf.concat_10[0][0]               \n",
      "__________________________________________________________________________________________________\n",
      "conv3d_transpose_18 (Conv3DTran (None, 4, 48, 84, 16 9232        tf.concat_18[0][0]               \n",
      "__________________________________________________________________________________________________\n",
      "batch_normalization_14 (BatchNo (None, 4, 48, 84, 16 64          conv3d_transpose_7[0][0]         \n",
      "__________________________________________________________________________________________________\n",
      "batch_normalization_22 (BatchNo (None, 4, 48, 84, 16 64          conv3d_transpose_15[0][0]        \n",
      "__________________________________________________________________________________________________\n",
      "batch_normalization_15 (BatchNo (None, 4, 48, 84, 16 64          conv3d_transpose_8[0][0]         \n",
      "__________________________________________________________________________________________________\n",
      "batch_normalization_23 (BatchNo (None, 4, 48, 84, 16 64          conv3d_transpose_16[0][0]        \n",
      "__________________________________________________________________________________________________\n",
      "batch_normalization_16 (BatchNo (None, 4, 48, 84, 16 64          conv3d_transpose_9[0][0]         \n",
      "__________________________________________________________________________________________________\n",
      "batch_normalization_24 (BatchNo (None, 4, 48, 84, 16 64          conv3d_transpose_17[0][0]        \n",
      "__________________________________________________________________________________________________\n",
      "batch_normalization_17 (BatchNo (None, 4, 48, 84, 16 64          conv3d_transpose_10[0][0]        \n",
      "__________________________________________________________________________________________________\n",
      "batch_normalization_25 (BatchNo (None, 4, 48, 84, 16 64          conv3d_transpose_18[0][0]        \n",
      "__________________________________________________________________________________________________\n",
      "activation_14 (Activation)      (None, 4, 48, 84, 16 0           batch_normalization_14[0][0]     \n",
      "__________________________________________________________________________________________________\n",
      "activation_22 (Activation)      (None, 4, 48, 84, 16 0           batch_normalization_22[0][0]     \n",
      "__________________________________________________________________________________________________\n",
      "activation_15 (Activation)      (None, 4, 48, 84, 16 0           batch_normalization_15[0][0]     \n",
      "__________________________________________________________________________________________________\n",
      "activation_23 (Activation)      (None, 4, 48, 84, 16 0           batch_normalization_23[0][0]     \n",
      "__________________________________________________________________________________________________\n",
      "activation_16 (Activation)      (None, 4, 48, 84, 16 0           batch_normalization_16[0][0]     \n",
      "__________________________________________________________________________________________________\n",
      "activation_24 (Activation)      (None, 4, 48, 84, 16 0           batch_normalization_24[0][0]     \n",
      "__________________________________________________________________________________________________\n",
      "activation_17 (Activation)      (None, 4, 48, 84, 16 0           batch_normalization_17[0][0]     \n",
      "__________________________________________________________________________________________________\n",
      "activation_25 (Activation)      (None, 4, 48, 84, 16 0           batch_normalization_25[0][0]     \n",
      "__________________________________________________________________________________________________\n",
      "tf.concat_19 (TFOpLambda)       (None, 4, 48, 84, 32 0           activation_14[0][0]              \n",
      "                                                                 activation_22[0][0]              \n",
      "__________________________________________________________________________________________________\n",
      "tf.concat_20 (TFOpLambda)       (None, 4, 48, 84, 32 0           activation_15[0][0]              \n",
      "                                                                 activation_23[0][0]              \n",
      "__________________________________________________________________________________________________\n",
      "tf.concat_21 (TFOpLambda)       (None, 4, 48, 84, 32 0           activation_16[0][0]              \n",
      "                                                                 activation_24[0][0]              \n",
      "__________________________________________________________________________________________________\n",
      "tf.concat_22 (TFOpLambda)       (None, 4, 48, 84, 32 0           activation_17[0][0]              \n",
      "                                                                 activation_25[0][0]              \n",
      "__________________________________________________________________________________________________\n",
      "conv3d_transpose_19 (Conv3DTran (None, 4, 48, 84, 1) 33          tf.concat_19[0][0]               \n",
      "__________________________________________________________________________________________________\n",
      "conv3d_transpose_20 (Conv3DTran (None, 4, 48, 84, 1) 33          tf.concat_20[0][0]               \n",
      "__________________________________________________________________________________________________\n",
      "conv3d_transpose_21 (Conv3DTran (None, 4, 48, 84, 1) 33          tf.concat_21[0][0]               \n",
      "__________________________________________________________________________________________________\n",
      "conv3d_transpose_22 (Conv3DTran (None, 4, 48, 84, 1) 33          tf.concat_22[0][0]               \n",
      "__________________________________________________________________________________________________\n",
      "batch_normalization_26 (BatchNo (None, 4, 48, 84, 1) 4           conv3d_transpose_19[0][0]        \n",
      "__________________________________________________________________________________________________\n",
      "batch_normalization_27 (BatchNo (None, 4, 48, 84, 1) 4           conv3d_transpose_20[0][0]        \n",
      "__________________________________________________________________________________________________\n",
      "batch_normalization_28 (BatchNo (None, 4, 48, 84, 1) 4           conv3d_transpose_21[0][0]        \n",
      "__________________________________________________________________________________________________\n",
      "batch_normalization_29 (BatchNo (None, 4, 48, 84, 1) 4           conv3d_transpose_22[0][0]        \n",
      "__________________________________________________________________________________________________\n",
      "tf.concat_23 (TFOpLambda)       (None, 4, 48, 84, 5) 0           batch_normalization_26[0][0]     \n",
      "                                                                 input_1[0][0]                    \n",
      "                                                                 batch_normalization_27[0][0]     \n",
      "                                                                 batch_normalization_28[0][0]     \n",
      "                                                                 batch_normalization_29[0][0]     \n",
      "==================================================================================================\n",
      "Total params: 3,893,028\n",
      "Trainable params: 3,889,372\n",
      "Non-trainable params: 3,656\n",
      "__________________________________________________________________________________________________\n"
     ]
    }
   ],
   "source": [
    "with strategy.scope():\n",
    "    generator = build_gen()\n",
    "generator.summary()"
   ]
  },
  {
   "cell_type": "code",
   "execution_count": 12,
   "metadata": {
    "ExecuteTime": {
     "end_time": "2021-11-11T03:23:02.033218Z",
     "start_time": "2021-11-11T03:23:02.012520Z"
    }
   },
   "outputs": [],
   "source": [
    "def Discriminator( tensor_in, N_track=5):#, condition_track=None):\n",
    "    conv_layer = lambda i, f, k, s: LeakyReLU()(Conv3D(filters=f, kernel_size=k, strides=s)(i))\n",
    "\n",
    "    #h = tensor_in\n",
    "    # tensor_in = tensor_in_1 #Concatenate(axis=-1)([tensor_in_1, condition_track])\n",
    "    h = tensor_in\n",
    "\n",
    "    # Compute chroma feature\n",
    "    n_beats = h.get_shape()[2] // beat_resolution\n",
    "    reshaped = tf.reshape(\n",
    "        tensor_in, (-1, h.get_shape()[1], n_beats, beat_resolution,\n",
    "                    h.get_shape()[3], h.get_shape()[4]))\n",
    "    summed = tf.reduce_sum(reshaped, 3)\n",
    "    factor = int(h.get_shape()[3]) // 12\n",
    "    remainder = int(h.get_shape()[3]) % 12\n",
    "    reshaped = tf.reshape(\n",
    "        summed[..., :(factor * 12), :],\n",
    "        (-1, h.get_shape()[1], n_beats, factor, 12, h.get_shape()[4]))\n",
    "    chroma = tf.reduce_sum(reshaped, 3)                      # 4, 4, 12\n",
    "    if remainder:\n",
    "        chroma += summed[..., -remainder:, :]\n",
    "\n",
    "    # Compute onset/offset feature\n",
    "    padded = tf.pad(tensor_in[:, :, :-1],\n",
    "                    ((0, 0), (0, 0), (1, 0), (0, 0), (0, 0)))\n",
    "    on_off_set = tf.reduce_sum(tensor_in - padded, 3, True)  # 4, 48, 1\n",
    "\n",
    "    # pitch-time private\n",
    "    s1 = [conv_layer(h, f=16, k=(1, 1, 12), s=(1, 1, 12)) for _ in range(N_track)]\n",
    "\n",
    "    s1 = [conv_layer(s1[i], f=32, k=(1, 3, 1), s=(1, 3, 1)) for i in range(N_track)]\n",
    "\n",
    "    # time-pitch private\n",
    "\n",
    "    s2 = [conv_layer(h, f=16, k=(1, 3, 1), s=(1, 3, 1)) for _ in range(N_track)]\n",
    "\n",
    "    s2 = [conv_layer(s2[i], f=32, k=(1, 1, 12), s=(1, 1, 12)) for i in range(N_track)]\n",
    "\n",
    "    h = [tf.concat((s1[i], s2[i]), -1) for i in range(N_track)]\n",
    "\n",
    "    # merge private network\n",
    "    h = [conv_layer(h[i], f=64, k=(1, 1, 1), s=(1, 1, 1)) for i in range(N_track)]\n",
    "\n",
    "    h = tf.concat(h, -1)\n",
    "\n",
    "    # shared net\n",
    "    h = conv_layer(h, f=128, k=(1, 4, 3), s=(1, 4, 2))\n",
    "    h = conv_layer(h, f=256, k=(1, 4, 3), s=(1, 4, 3))\n",
    "\n",
    "    # chroma stream\n",
    "    c = conv_layer(chroma, f=32, k=(1, 1, 12), s=(1, 1, 12))\n",
    "    c = conv_layer(c, f=64, k=(1, 4, 1), s=(1, 4, 1))\n",
    "\n",
    "    # onset/offset stream\n",
    "    o = conv_layer(on_off_set, f=16, k=(1, 3, 1), s=(1, 3, 1))\n",
    "    o = conv_layer(o, f=32, k=(1, 4, 1), s=(1, 4, 1))\n",
    "    o = conv_layer(o, f=64, k=(1, 4, 1), s=(1, 4, 1))\n",
    "\n",
    "    h = tf.concat((h, c, o), -1)\n",
    "\n",
    "    # merged all streams\n",
    "    h = conv_layer(h, f=512, k=(2, 1, 1), s=(1, 1, 1))\n",
    "    \n",
    "    #h = tf.reshape(h, (-1, h.get_shape()[-1])) # flatten\n",
    "    h = Flatten()(h)\n",
    "    h = LeakyReLU()(h)\n",
    "\n",
    "    out = Dense(1, kernel_initializer=TruncatedNormal(stddev=0.05))(h)\n",
    "    return out\n",
    "\n",
    "def build_disc():\n",
    "    tensor_in = Input(shape=input_dim)\n",
    "    condition_track = Input(shape=(input_dim[:-1]+(1,)))\n",
    "    disc_x = Discriminator(tensor_in, 5)\n",
    "    \n",
    "    disc_c = Discriminator(condition_track, 1) #\n",
    "\n",
    "    out_1 = Concatenate(axis=-1)([disc_x, disc_c]) #\n",
    "    out_1 = Flatten()(out_1) #\n",
    "    out = LeakyReLU()(out_1) #\n",
    "    out = Dense(1, kernel_initializer=TruncatedNormal(stddev=0.05))(out)\n",
    "    return Model([tensor_in, condition_track], out) #"
   ]
  },
  {
   "cell_type": "code",
   "execution_count": 13,
   "metadata": {
    "ExecuteTime": {
     "end_time": "2021-11-11T03:23:02.768136Z",
     "start_time": "2021-11-11T03:23:02.055461Z"
    }
   },
   "outputs": [
    {
     "name": "stdout",
     "output_type": "stream",
     "text": [
      "Model: \"model_1\"\n",
      "__________________________________________________________________________________________________\n",
      "Layer (type)                    Output Shape         Param #     Connected to                     \n",
      "==================================================================================================\n",
      "input_3 (InputLayer)            [(None, 4, 48, 84, 5 0                                            \n",
      "__________________________________________________________________________________________________\n",
      "input_4 (InputLayer)            [(None, 4, 48, 84, 1 0                                            \n",
      "__________________________________________________________________________________________________\n",
      "conv3d_7 (Conv3D)               (None, 4, 48, 7, 16) 976         input_3[0][0]                    \n",
      "__________________________________________________________________________________________________\n",
      "conv3d_17 (Conv3D)              (None, 4, 16, 84, 16 256         input_3[0][0]                    \n",
      "__________________________________________________________________________________________________\n",
      "conv3d_8 (Conv3D)               (None, 4, 48, 7, 16) 976         input_3[0][0]                    \n",
      "__________________________________________________________________________________________________\n",
      "conv3d_18 (Conv3D)              (None, 4, 16, 84, 16 256         input_3[0][0]                    \n",
      "__________________________________________________________________________________________________\n",
      "conv3d_9 (Conv3D)               (None, 4, 48, 7, 16) 976         input_3[0][0]                    \n",
      "__________________________________________________________________________________________________\n",
      "conv3d_19 (Conv3D)              (None, 4, 16, 84, 16 256         input_3[0][0]                    \n",
      "__________________________________________________________________________________________________\n",
      "conv3d_10 (Conv3D)              (None, 4, 48, 7, 16) 976         input_3[0][0]                    \n",
      "__________________________________________________________________________________________________\n",
      "conv3d_20 (Conv3D)              (None, 4, 16, 84, 16 256         input_3[0][0]                    \n",
      "__________________________________________________________________________________________________\n",
      "conv3d_11 (Conv3D)              (None, 4, 48, 7, 16) 976         input_3[0][0]                    \n",
      "__________________________________________________________________________________________________\n",
      "conv3d_21 (Conv3D)              (None, 4, 16, 84, 16 256         input_3[0][0]                    \n",
      "__________________________________________________________________________________________________\n",
      "conv3d_40 (Conv3D)              (None, 4, 48, 7, 16) 208         input_4[0][0]                    \n",
      "__________________________________________________________________________________________________\n",
      "conv3d_42 (Conv3D)              (None, 4, 16, 84, 16 64          input_4[0][0]                    \n",
      "__________________________________________________________________________________________________\n",
      "leaky_re_lu (LeakyReLU)         (None, 4, 48, 7, 16) 0           conv3d_7[0][0]                   \n",
      "__________________________________________________________________________________________________\n",
      "leaky_re_lu_10 (LeakyReLU)      (None, 4, 16, 84, 16 0           conv3d_17[0][0]                  \n",
      "__________________________________________________________________________________________________\n",
      "leaky_re_lu_1 (LeakyReLU)       (None, 4, 48, 7, 16) 0           conv3d_8[0][0]                   \n",
      "__________________________________________________________________________________________________\n",
      "leaky_re_lu_11 (LeakyReLU)      (None, 4, 16, 84, 16 0           conv3d_18[0][0]                  \n",
      "__________________________________________________________________________________________________\n",
      "leaky_re_lu_2 (LeakyReLU)       (None, 4, 48, 7, 16) 0           conv3d_9[0][0]                   \n",
      "__________________________________________________________________________________________________\n",
      "leaky_re_lu_12 (LeakyReLU)      (None, 4, 16, 84, 16 0           conv3d_19[0][0]                  \n",
      "__________________________________________________________________________________________________\n",
      "leaky_re_lu_3 (LeakyReLU)       (None, 4, 48, 7, 16) 0           conv3d_10[0][0]                  \n",
      "__________________________________________________________________________________________________\n",
      "leaky_re_lu_13 (LeakyReLU)      (None, 4, 16, 84, 16 0           conv3d_20[0][0]                  \n",
      "__________________________________________________________________________________________________\n",
      "leaky_re_lu_4 (LeakyReLU)       (None, 4, 48, 7, 16) 0           conv3d_11[0][0]                  \n",
      "__________________________________________________________________________________________________\n",
      "leaky_re_lu_14 (LeakyReLU)      (None, 4, 16, 84, 16 0           conv3d_21[0][0]                  \n",
      "__________________________________________________________________________________________________\n",
      "leaky_re_lu_34 (LeakyReLU)      (None, 4, 48, 7, 16) 0           conv3d_40[0][0]                  \n",
      "__________________________________________________________________________________________________\n",
      "leaky_re_lu_36 (LeakyReLU)      (None, 4, 16, 84, 16 0           conv3d_42[0][0]                  \n",
      "__________________________________________________________________________________________________\n",
      "conv3d_12 (Conv3D)              (None, 4, 16, 7, 32) 1568        leaky_re_lu[0][0]                \n",
      "__________________________________________________________________________________________________\n",
      "conv3d_22 (Conv3D)              (None, 4, 16, 7, 32) 6176        leaky_re_lu_10[0][0]             \n",
      "__________________________________________________________________________________________________\n",
      "conv3d_13 (Conv3D)              (None, 4, 16, 7, 32) 1568        leaky_re_lu_1[0][0]              \n",
      "__________________________________________________________________________________________________\n",
      "conv3d_23 (Conv3D)              (None, 4, 16, 7, 32) 6176        leaky_re_lu_11[0][0]             \n",
      "__________________________________________________________________________________________________\n",
      "conv3d_14 (Conv3D)              (None, 4, 16, 7, 32) 1568        leaky_re_lu_2[0][0]              \n",
      "__________________________________________________________________________________________________\n",
      "conv3d_24 (Conv3D)              (None, 4, 16, 7, 32) 6176        leaky_re_lu_12[0][0]             \n",
      "__________________________________________________________________________________________________\n",
      "conv3d_15 (Conv3D)              (None, 4, 16, 7, 32) 1568        leaky_re_lu_3[0][0]              \n",
      "__________________________________________________________________________________________________\n",
      "conv3d_25 (Conv3D)              (None, 4, 16, 7, 32) 6176        leaky_re_lu_13[0][0]             \n",
      "__________________________________________________________________________________________________\n",
      "conv3d_16 (Conv3D)              (None, 4, 16, 7, 32) 1568        leaky_re_lu_4[0][0]              \n",
      "__________________________________________________________________________________________________\n",
      "conv3d_26 (Conv3D)              (None, 4, 16, 7, 32) 6176        leaky_re_lu_14[0][0]             \n",
      "__________________________________________________________________________________________________\n",
      "tf.__operators__.getitem_1 (Sli (None, 4, 47, 84, 5) 0           input_3[0][0]                    \n",
      "__________________________________________________________________________________________________\n",
      "conv3d_41 (Conv3D)              (None, 4, 16, 7, 32) 1568        leaky_re_lu_34[0][0]             \n",
      "__________________________________________________________________________________________________\n",
      "conv3d_43 (Conv3D)              (None, 4, 16, 7, 32) 6176        leaky_re_lu_36[0][0]             \n",
      "__________________________________________________________________________________________________\n",
      "tf.__operators__.getitem_3 (Sli (None, 4, 47, 84, 1) 0           input_4[0][0]                    \n",
      "__________________________________________________________________________________________________\n",
      "leaky_re_lu_5 (LeakyReLU)       (None, 4, 16, 7, 32) 0           conv3d_12[0][0]                  \n",
      "__________________________________________________________________________________________________\n",
      "leaky_re_lu_15 (LeakyReLU)      (None, 4, 16, 7, 32) 0           conv3d_22[0][0]                  \n",
      "__________________________________________________________________________________________________\n",
      "leaky_re_lu_6 (LeakyReLU)       (None, 4, 16, 7, 32) 0           conv3d_13[0][0]                  \n",
      "__________________________________________________________________________________________________\n",
      "leaky_re_lu_16 (LeakyReLU)      (None, 4, 16, 7, 32) 0           conv3d_23[0][0]                  \n",
      "__________________________________________________________________________________________________\n",
      "leaky_re_lu_7 (LeakyReLU)       (None, 4, 16, 7, 32) 0           conv3d_14[0][0]                  \n",
      "__________________________________________________________________________________________________\n",
      "leaky_re_lu_17 (LeakyReLU)      (None, 4, 16, 7, 32) 0           conv3d_24[0][0]                  \n",
      "__________________________________________________________________________________________________\n",
      "leaky_re_lu_8 (LeakyReLU)       (None, 4, 16, 7, 32) 0           conv3d_15[0][0]                  \n",
      "__________________________________________________________________________________________________\n",
      "leaky_re_lu_18 (LeakyReLU)      (None, 4, 16, 7, 32) 0           conv3d_25[0][0]                  \n",
      "__________________________________________________________________________________________________\n",
      "leaky_re_lu_9 (LeakyReLU)       (None, 4, 16, 7, 32) 0           conv3d_16[0][0]                  \n",
      "__________________________________________________________________________________________________\n",
      "leaky_re_lu_19 (LeakyReLU)      (None, 4, 16, 7, 32) 0           conv3d_26[0][0]                  \n",
      "__________________________________________________________________________________________________\n",
      "tf.reshape (TFOpLambda)         (None, 4, 4, 12, 84, 0           input_3[0][0]                    \n",
      "__________________________________________________________________________________________________\n",
      "tf.compat.v1.pad (TFOpLambda)   (None, 4, 48, 84, 5) 0           tf.__operators__.getitem_1[0][0] \n",
      "__________________________________________________________________________________________________\n",
      "leaky_re_lu_35 (LeakyReLU)      (None, 4, 16, 7, 32) 0           conv3d_41[0][0]                  \n",
      "__________________________________________________________________________________________________\n",
      "leaky_re_lu_37 (LeakyReLU)      (None, 4, 16, 7, 32) 0           conv3d_43[0][0]                  \n",
      "__________________________________________________________________________________________________\n",
      "tf.reshape_2 (TFOpLambda)       (None, 4, 4, 12, 84, 0           input_4[0][0]                    \n",
      "__________________________________________________________________________________________________\n",
      "tf.compat.v1.pad_1 (TFOpLambda) (None, 4, 48, 84, 1) 0           tf.__operators__.getitem_3[0][0] \n",
      "__________________________________________________________________________________________________\n",
      "tf.concat_24 (TFOpLambda)       (None, 4, 16, 7, 64) 0           leaky_re_lu_5[0][0]              \n",
      "                                                                 leaky_re_lu_15[0][0]             \n",
      "__________________________________________________________________________________________________\n",
      "tf.concat_25 (TFOpLambda)       (None, 4, 16, 7, 64) 0           leaky_re_lu_6[0][0]              \n",
      "                                                                 leaky_re_lu_16[0][0]             \n",
      "__________________________________________________________________________________________________\n",
      "tf.concat_26 (TFOpLambda)       (None, 4, 16, 7, 64) 0           leaky_re_lu_7[0][0]              \n",
      "                                                                 leaky_re_lu_17[0][0]             \n",
      "__________________________________________________________________________________________________\n",
      "tf.concat_27 (TFOpLambda)       (None, 4, 16, 7, 64) 0           leaky_re_lu_8[0][0]              \n",
      "                                                                 leaky_re_lu_18[0][0]             \n",
      "__________________________________________________________________________________________________\n",
      "tf.concat_28 (TFOpLambda)       (None, 4, 16, 7, 64) 0           leaky_re_lu_9[0][0]              \n",
      "                                                                 leaky_re_lu_19[0][0]             \n",
      "__________________________________________________________________________________________________\n",
      "tf.math.reduce_sum (TFOpLambda) (None, 4, 4, 84, 5)  0           tf.reshape[0][0]                 \n",
      "__________________________________________________________________________________________________\n",
      "tf.math.subtract (TFOpLambda)   (None, 4, 48, 84, 5) 0           input_3[0][0]                    \n",
      "                                                                 tf.compat.v1.pad[0][0]           \n",
      "__________________________________________________________________________________________________\n",
      "tf.concat_31 (TFOpLambda)       (None, 4, 16, 7, 64) 0           leaky_re_lu_35[0][0]             \n",
      "                                                                 leaky_re_lu_37[0][0]             \n",
      "__________________________________________________________________________________________________\n",
      "tf.math.reduce_sum_3 (TFOpLambd (None, 4, 4, 84, 1)  0           tf.reshape_2[0][0]               \n",
      "__________________________________________________________________________________________________\n",
      "tf.math.subtract_1 (TFOpLambda) (None, 4, 48, 84, 1) 0           input_4[0][0]                    \n",
      "                                                                 tf.compat.v1.pad_1[0][0]         \n",
      "__________________________________________________________________________________________________\n",
      "conv3d_27 (Conv3D)              (None, 4, 16, 7, 64) 4160        tf.concat_24[0][0]               \n",
      "__________________________________________________________________________________________________\n",
      "conv3d_28 (Conv3D)              (None, 4, 16, 7, 64) 4160        tf.concat_25[0][0]               \n",
      "__________________________________________________________________________________________________\n",
      "conv3d_29 (Conv3D)              (None, 4, 16, 7, 64) 4160        tf.concat_26[0][0]               \n",
      "__________________________________________________________________________________________________\n",
      "conv3d_30 (Conv3D)              (None, 4, 16, 7, 64) 4160        tf.concat_27[0][0]               \n",
      "__________________________________________________________________________________________________\n",
      "conv3d_31 (Conv3D)              (None, 4, 16, 7, 64) 4160        tf.concat_28[0][0]               \n",
      "__________________________________________________________________________________________________\n",
      "tf.__operators__.getitem (Slici (None, 4, 4, 84, 5)  0           tf.math.reduce_sum[0][0]         \n",
      "__________________________________________________________________________________________________\n",
      "tf.math.reduce_sum_2 (TFOpLambd (None, 4, 48, 1, 5)  0           tf.math.subtract[0][0]           \n",
      "__________________________________________________________________________________________________\n",
      "conv3d_44 (Conv3D)              (None, 4, 16, 7, 64) 4160        tf.concat_31[0][0]               \n",
      "__________________________________________________________________________________________________\n",
      "tf.__operators__.getitem_2 (Sli (None, 4, 4, 84, 1)  0           tf.math.reduce_sum_3[0][0]       \n",
      "__________________________________________________________________________________________________\n",
      "tf.math.reduce_sum_5 (TFOpLambd (None, 4, 48, 1, 1)  0           tf.math.subtract_1[0][0]         \n",
      "__________________________________________________________________________________________________\n",
      "leaky_re_lu_20 (LeakyReLU)      (None, 4, 16, 7, 64) 0           conv3d_27[0][0]                  \n",
      "__________________________________________________________________________________________________\n",
      "leaky_re_lu_21 (LeakyReLU)      (None, 4, 16, 7, 64) 0           conv3d_28[0][0]                  \n",
      "__________________________________________________________________________________________________\n",
      "leaky_re_lu_22 (LeakyReLU)      (None, 4, 16, 7, 64) 0           conv3d_29[0][0]                  \n",
      "__________________________________________________________________________________________________\n",
      "leaky_re_lu_23 (LeakyReLU)      (None, 4, 16, 7, 64) 0           conv3d_30[0][0]                  \n",
      "__________________________________________________________________________________________________\n",
      "leaky_re_lu_24 (LeakyReLU)      (None, 4, 16, 7, 64) 0           conv3d_31[0][0]                  \n",
      "__________________________________________________________________________________________________\n",
      "tf.reshape_1 (TFOpLambda)       (None, 4, 4, 7, 12,  0           tf.__operators__.getitem[0][0]   \n",
      "__________________________________________________________________________________________________\n",
      "conv3d_36 (Conv3D)              (None, 4, 16, 1, 16) 256         tf.math.reduce_sum_2[0][0]       \n",
      "__________________________________________________________________________________________________\n",
      "leaky_re_lu_38 (LeakyReLU)      (None, 4, 16, 7, 64) 0           conv3d_44[0][0]                  \n",
      "__________________________________________________________________________________________________\n",
      "tf.reshape_3 (TFOpLambda)       (None, 4, 4, 7, 12,  0           tf.__operators__.getitem_2[0][0] \n",
      "__________________________________________________________________________________________________\n",
      "conv3d_49 (Conv3D)              (None, 4, 16, 1, 16) 64          tf.math.reduce_sum_5[0][0]       \n",
      "__________________________________________________________________________________________________\n",
      "tf.concat_29 (TFOpLambda)       (None, 4, 16, 7, 320 0           leaky_re_lu_20[0][0]             \n",
      "                                                                 leaky_re_lu_21[0][0]             \n",
      "                                                                 leaky_re_lu_22[0][0]             \n",
      "                                                                 leaky_re_lu_23[0][0]             \n",
      "                                                                 leaky_re_lu_24[0][0]             \n",
      "__________________________________________________________________________________________________\n",
      "tf.math.reduce_sum_1 (TFOpLambd (None, 4, 4, 12, 5)  0           tf.reshape_1[0][0]               \n",
      "__________________________________________________________________________________________________\n",
      "leaky_re_lu_29 (LeakyReLU)      (None, 4, 16, 1, 16) 0           conv3d_36[0][0]                  \n",
      "__________________________________________________________________________________________________\n",
      "tf.identity (TFOpLambda)        (None, 4, 16, 7, 64) 0           leaky_re_lu_38[0][0]             \n",
      "__________________________________________________________________________________________________\n",
      "tf.math.reduce_sum_4 (TFOpLambd (None, 4, 4, 12, 1)  0           tf.reshape_3[0][0]               \n",
      "__________________________________________________________________________________________________\n",
      "leaky_re_lu_43 (LeakyReLU)      (None, 4, 16, 1, 16) 0           conv3d_49[0][0]                  \n",
      "__________________________________________________________________________________________________\n",
      "conv3d_32 (Conv3D)              (None, 4, 4, 3, 128) 491648      tf.concat_29[0][0]               \n",
      "__________________________________________________________________________________________________\n",
      "conv3d_34 (Conv3D)              (None, 4, 4, 1, 32)  1952        tf.math.reduce_sum_1[0][0]       \n",
      "__________________________________________________________________________________________________\n",
      "conv3d_37 (Conv3D)              (None, 4, 4, 1, 32)  2080        leaky_re_lu_29[0][0]             \n",
      "__________________________________________________________________________________________________\n",
      "conv3d_45 (Conv3D)              (None, 4, 4, 3, 128) 98432       tf.identity[0][0]                \n",
      "__________________________________________________________________________________________________\n",
      "conv3d_47 (Conv3D)              (None, 4, 4, 1, 32)  416         tf.math.reduce_sum_4[0][0]       \n",
      "__________________________________________________________________________________________________\n",
      "conv3d_50 (Conv3D)              (None, 4, 4, 1, 32)  2080        leaky_re_lu_43[0][0]             \n",
      "__________________________________________________________________________________________________\n",
      "leaky_re_lu_25 (LeakyReLU)      (None, 4, 4, 3, 128) 0           conv3d_32[0][0]                  \n",
      "__________________________________________________________________________________________________\n",
      "leaky_re_lu_27 (LeakyReLU)      (None, 4, 4, 1, 32)  0           conv3d_34[0][0]                  \n",
      "__________________________________________________________________________________________________\n",
      "leaky_re_lu_30 (LeakyReLU)      (None, 4, 4, 1, 32)  0           conv3d_37[0][0]                  \n",
      "__________________________________________________________________________________________________\n",
      "leaky_re_lu_39 (LeakyReLU)      (None, 4, 4, 3, 128) 0           conv3d_45[0][0]                  \n",
      "__________________________________________________________________________________________________\n",
      "leaky_re_lu_41 (LeakyReLU)      (None, 4, 4, 1, 32)  0           conv3d_47[0][0]                  \n",
      "__________________________________________________________________________________________________\n",
      "leaky_re_lu_44 (LeakyReLU)      (None, 4, 4, 1, 32)  0           conv3d_50[0][0]                  \n",
      "__________________________________________________________________________________________________\n",
      "conv3d_33 (Conv3D)              (None, 4, 1, 1, 256) 393472      leaky_re_lu_25[0][0]             \n",
      "__________________________________________________________________________________________________\n",
      "conv3d_35 (Conv3D)              (None, 4, 1, 1, 64)  8256        leaky_re_lu_27[0][0]             \n",
      "__________________________________________________________________________________________________\n",
      "conv3d_38 (Conv3D)              (None, 4, 1, 1, 64)  8256        leaky_re_lu_30[0][0]             \n",
      "__________________________________________________________________________________________________\n",
      "conv3d_46 (Conv3D)              (None, 4, 1, 1, 256) 393472      leaky_re_lu_39[0][0]             \n",
      "__________________________________________________________________________________________________\n",
      "conv3d_48 (Conv3D)              (None, 4, 1, 1, 64)  8256        leaky_re_lu_41[0][0]             \n",
      "__________________________________________________________________________________________________\n",
      "conv3d_51 (Conv3D)              (None, 4, 1, 1, 64)  8256        leaky_re_lu_44[0][0]             \n",
      "__________________________________________________________________________________________________\n",
      "leaky_re_lu_26 (LeakyReLU)      (None, 4, 1, 1, 256) 0           conv3d_33[0][0]                  \n",
      "__________________________________________________________________________________________________\n",
      "leaky_re_lu_28 (LeakyReLU)      (None, 4, 1, 1, 64)  0           conv3d_35[0][0]                  \n",
      "__________________________________________________________________________________________________\n",
      "leaky_re_lu_31 (LeakyReLU)      (None, 4, 1, 1, 64)  0           conv3d_38[0][0]                  \n",
      "__________________________________________________________________________________________________\n",
      "leaky_re_lu_40 (LeakyReLU)      (None, 4, 1, 1, 256) 0           conv3d_46[0][0]                  \n",
      "__________________________________________________________________________________________________\n",
      "leaky_re_lu_42 (LeakyReLU)      (None, 4, 1, 1, 64)  0           conv3d_48[0][0]                  \n",
      "__________________________________________________________________________________________________\n",
      "leaky_re_lu_45 (LeakyReLU)      (None, 4, 1, 1, 64)  0           conv3d_51[0][0]                  \n",
      "__________________________________________________________________________________________________\n",
      "tf.concat_30 (TFOpLambda)       (None, 4, 1, 1, 384) 0           leaky_re_lu_26[0][0]             \n",
      "                                                                 leaky_re_lu_28[0][0]             \n",
      "                                                                 leaky_re_lu_31[0][0]             \n",
      "__________________________________________________________________________________________________\n",
      "tf.concat_32 (TFOpLambda)       (None, 4, 1, 1, 384) 0           leaky_re_lu_40[0][0]             \n",
      "                                                                 leaky_re_lu_42[0][0]             \n",
      "                                                                 leaky_re_lu_45[0][0]             \n",
      "__________________________________________________________________________________________________\n",
      "conv3d_39 (Conv3D)              (None, 3, 1, 1, 512) 393728      tf.concat_30[0][0]               \n",
      "__________________________________________________________________________________________________\n",
      "conv3d_52 (Conv3D)              (None, 3, 1, 1, 512) 393728      tf.concat_32[0][0]               \n",
      "__________________________________________________________________________________________________\n",
      "leaky_re_lu_32 (LeakyReLU)      (None, 3, 1, 1, 512) 0           conv3d_39[0][0]                  \n",
      "__________________________________________________________________________________________________\n",
      "leaky_re_lu_46 (LeakyReLU)      (None, 3, 1, 1, 512) 0           conv3d_52[0][0]                  \n",
      "__________________________________________________________________________________________________\n",
      "flatten (Flatten)               (None, 1536)         0           leaky_re_lu_32[0][0]             \n",
      "__________________________________________________________________________________________________\n",
      "flatten_1 (Flatten)             (None, 1536)         0           leaky_re_lu_46[0][0]             \n",
      "__________________________________________________________________________________________________\n",
      "leaky_re_lu_33 (LeakyReLU)      (None, 1536)         0           flatten[0][0]                    \n",
      "__________________________________________________________________________________________________\n",
      "leaky_re_lu_47 (LeakyReLU)      (None, 1536)         0           flatten_1[0][0]                  \n",
      "__________________________________________________________________________________________________\n",
      "dense (Dense)                   (None, 1)            1537        leaky_re_lu_33[0][0]             \n",
      "__________________________________________________________________________________________________\n",
      "dense_1 (Dense)                 (None, 1)            1537        leaky_re_lu_47[0][0]             \n",
      "__________________________________________________________________________________________________\n",
      "concatenate_1 (Concatenate)     (None, 2)            0           dense[0][0]                      \n",
      "                                                                 dense_1[0][0]                    \n",
      "__________________________________________________________________________________________________\n",
      "flatten_2 (Flatten)             (None, 2)            0           concatenate_1[0][0]              \n",
      "__________________________________________________________________________________________________\n",
      "leaky_re_lu_48 (LeakyReLU)      (None, 2)            0           flatten_2[0][0]                  \n",
      "__________________________________________________________________________________________________\n",
      "dense_2 (Dense)                 (None, 1)            3           leaky_re_lu_48[0][0]             \n",
      "==================================================================================================\n",
      "Total params: 2,285,285\n",
      "Trainable params: 2,285,285\n",
      "Non-trainable params: 0\n",
      "__________________________________________________________________________________________________\n"
     ]
    }
   ],
   "source": [
    "with strategy.scope():\n",
    "    discriminator = build_disc()\n",
    "discriminator.summary()"
   ]
  },
  {
   "cell_type": "code",
   "execution_count": 14,
   "metadata": {
    "ExecuteTime": {
     "end_time": "2021-11-11T03:23:02.795398Z",
     "start_time": "2021-11-11T03:23:02.792612Z"
    }
   },
   "outputs": [],
   "source": [
    "#Number of input data samples in a batch\n",
    "BATCH_SIZE = 512\n",
    "\n",
    "#Shuffle buffer size for shuffling data\n",
    "SHUFFLE_BUFFER_SIZE = 10000\n",
    "\n",
    "#Preloads PREFETCH_SIZE batches so that there is no idle time between batches\n",
    "PREFETCH_SIZE = tf.data.experimental.AUTOTUNE"
   ]
  },
  {
   "cell_type": "code",
   "execution_count": 15,
   "metadata": {
    "ExecuteTime": {
     "end_time": "2021-11-11T03:23:30.831230Z",
     "start_time": "2021-11-11T03:23:02.815541Z"
    }
   },
   "outputs": [
    {
     "name": "stdout",
     "output_type": "stream",
     "text": [
      "data shape = (35290, 4, 48, 84, 5)\n"
     ]
    },
    {
     "name": "stderr",
     "output_type": "stream",
     "text": [
      "2021-11-11 12:23:19.797260: W tensorflow/core/framework/cpu_allocator_impl.cc:80] Allocation of 11383142400 exceeds 10% of free system memory.\n"
     ]
    }
   ],
   "source": [
    "with strategy.scope():\n",
    "    def prepare_dataset(filename):\n",
    "        \"\"\"Load the samples used for training.\"\"\"\n",
    "        \n",
    "        data = np.load(filename)\n",
    "        data = np.asarray(data[:, :, :, :, :], dtype=np.float32)  # {-1, 1}\n",
    "        data = data / 127.0\n",
    "        print('data shape = {}'.format(data.shape))\n",
    "\n",
    "        dataset = tf.data.Dataset.from_tensor_slices(data)\n",
    "        dataset = dataset.shuffle(SHUFFLE_BUFFER_SIZE).repeat()\n",
    "        dataset = dataset.batch(BATCH_SIZE*strategy.num_replicas_in_sync, drop_remainder=True)\n",
    "        dataset = dataset.prefetch(PREFETCH_SIZE)\n",
    "        return dataset\n",
    "        \n",
    "    DATASET_PATH = './run/dataset2.npy'\n",
    "\n",
    "    dataset = prepare_dataset(DATASET_PATH)"
   ]
  },
  {
   "cell_type": "code",
   "execution_count": 16,
   "metadata": {
    "ExecuteTime": {
     "end_time": "2021-11-11T03:23:30.859679Z",
     "start_time": "2021-11-11T03:23:30.853028Z"
    }
   },
   "outputs": [],
   "source": [
    "def generator_loss(critic_fake_output):\n",
    "    \"\"\" Wasserstein GAN loss\n",
    "    (Generator)  -D(G(z|c))\n",
    "    \"\"\"\n",
    "    return -tf.reduce_mean(critic_fake_output)\n",
    "\n",
    "\n",
    "def wasserstein_loss(critic_real_output, critic_fake_output):\n",
    "    \"\"\" Wasserstein GAN loss\n",
    "    (Critic)  D(G(z|c)) - D(x|c)\n",
    "    \"\"\"\n",
    "    return tf.reduce_mean(critic_fake_output) - tf.reduce_mean(\n",
    "        critic_real_output)\n",
    "\n",
    "\n",
    "def compute_gradient_penalty(critic, x, fake_x):\n",
    "    \n",
    "    c = tf.expand_dims(x[..., 0], -1)\n",
    "    batch_size = x.get_shape().as_list()[0]\n",
    "    eps_x = tf.random.uniform(\n",
    "        [batch_size] + [1] * (len(x.get_shape()) - 1))  # B, 1, 1, 1, 1\n",
    "    inter = eps_x * x + (1.0 - eps_x) * fake_x\n",
    "\n",
    "    with tf.GradientTape() as g:\n",
    "        g.watch(inter)\n",
    "        disc_inter_output = critic((inter, c), training=True)\n",
    "    grads = g.gradient(disc_inter_output, inter)\n",
    "    slopes = tf.sqrt(1e-8 + tf.reduce_sum(\n",
    "        tf.square(grads),\n",
    "        axis=tf.range(1, grads.get_shape().ndims)))\n",
    "    gradient_penalty = tf.reduce_mean(tf.square(slopes - 1.0))\n",
    "    \n",
    "    return gradient_penalty"
   ]
  },
  {
   "cell_type": "code",
   "execution_count": 17,
   "metadata": {
    "ExecuteTime": {
     "end_time": "2021-11-11T03:23:30.882790Z",
     "start_time": "2021-11-11T03:23:30.880210Z"
    }
   },
   "outputs": [],
   "source": [
    "CHECK_DIR = os.path.join(RUN_FOLDER, 'weights')"
   ]
  },
  {
   "cell_type": "code",
   "execution_count": 18,
   "metadata": {
    "ExecuteTime": {
     "end_time": "2021-11-11T03:23:30.910101Z",
     "start_time": "2021-11-11T03:23:30.903965Z"
    }
   },
   "outputs": [],
   "source": [
    "@tf.function\n",
    "def _generator_train_step(x, condition_track_idx=0):\n",
    "    def generator_train_step(x=x, condition_track_idx=condition_track_idx):\n",
    "\n",
    "        ############################################\n",
    "        #(1) Update G network: maximize D(G(z|c))\n",
    "        ############################################\n",
    "\n",
    "        # Extract condition track to make real batches pianoroll\n",
    "        c = tf.expand_dims(x[..., condition_track_idx], -1)\n",
    "\n",
    "        # Generate batch of latent vectors\n",
    "        z = tf.random.truncated_normal([BATCH_SIZE, latent_dim])\n",
    "\n",
    "        with tf.GradientTape() as tape:\n",
    "            fake_x = generator((c, z), training=True)\n",
    "            fake_output = discriminator((fake_x, c), training=False)\n",
    "\n",
    "            # Calculate Generator's loss based on this generated output\n",
    "            gen_loss = generator_loss(fake_output)\n",
    "\n",
    "        # Calculate gradients for Generator\n",
    "        gradients_of_generator = tape.gradient(gen_loss,\n",
    "                                            generator.trainable_variables)\n",
    "        # Update Generator\n",
    "        generator_optimizer.apply_gradients(\n",
    "            zip(gradients_of_generator, generator.trainable_variables))\n",
    "\n",
    "        return gen_loss\n",
    "    per_replica_loss = strategy.run(generator_train_step, args=(x, condition_track_idx))\n",
    "    return strategy.reduce(tf.distribute.ReduceOp.MEAN, per_replica_loss, axis=None)\n"
   ]
  },
  {
   "cell_type": "code",
   "execution_count": 19,
   "metadata": {
    "ExecuteTime": {
     "end_time": "2021-11-11T03:23:30.941531Z",
     "start_time": "2021-11-11T03:23:30.930947Z"
    }
   },
   "outputs": [],
   "source": [
    "@tf.function\n",
    "def _critic_train_step(x, condition_track_idx=0):\n",
    "    def critic_train_step(x=x, condition_track_idx=condition_track_idx):\n",
    "\n",
    "        ############################################################################\n",
    "        #(2) Update D network: maximize (D(x|c)) + (1 - D(G(z|c))|c) + GradientPenality() \n",
    "        ############################################################################\n",
    "\n",
    "        # Extract condition track to make real batches pianoroll\n",
    "        c = tf.expand_dims(x[..., condition_track_idx], -1)\n",
    "\n",
    "        # Generate batch of latent vectors\n",
    "        z = tf.random.truncated_normal([BATCH_SIZE, latent_dim])\n",
    "\n",
    "        # Generated fake pianoroll\n",
    "        fake_x = generator((c, z), training=False)\n",
    "\n",
    "        # Update critic parameters\n",
    "        with tf.GradientTape() as tape:\n",
    "            real_output = discriminator((x,c), training=True)\n",
    "            fake_output = discriminator((fake_x,c), training=True)\n",
    "            critic_loss =  wasserstein_loss(real_output, fake_output)\n",
    "\n",
    "        # Caculate the gradients from the real and fake batches\n",
    "        grads_of_critic = tape.gradient(critic_loss,\n",
    "                                                discriminator.trainable_variables)\n",
    "\n",
    "        with tf.GradientTape() as tape:\n",
    "            gp_loss = compute_gradient_penalty(discriminator, x, fake_x)\n",
    "            gp_loss *= 10.0\n",
    "\n",
    "        # Calculate the gradients penalty from the real and fake batches\n",
    "        grads_gp = tape.gradient(gp_loss, discriminator.trainable_variables)\n",
    "        gradients_of_critic = [g + ggp for g, ggp in\n",
    "                                    zip(grads_of_critic, grads_gp)\n",
    "                                    if ggp is not None]\n",
    "\n",
    "        # Update Critic\n",
    "        critic_optimizer.apply_gradients(\n",
    "            zip(gradients_of_critic, discriminator.trainable_variables))\n",
    "\n",
    "        return critic_loss + gp_loss\n",
    "    per_replica_loss = strategy.run(critic_train_step, args=(x, condition_track_idx))\n",
    "    return strategy.reduce(tf.distribute.ReduceOp.MEAN, per_replica_loss, axis=None)"
   ]
  },
  {
   "cell_type": "code",
   "execution_count": 20,
   "metadata": {
    "ExecuteTime": {
     "end_time": "2021-11-11T03:23:30.969946Z",
     "start_time": "2021-11-11T03:23:30.965506Z"
    }
   },
   "outputs": [],
   "source": [
    "def load_melody_samples(n_sample=5):    \n",
    "    \"\"\"Load the samples used for evaluation.\"\"\"\n",
    "    \n",
    "    sample_source_path = DATASET_PATH\n",
    "    \n",
    "    data = np.load(sample_source_path)\n",
    "    data = np.asarray(data[:, :, :48, :, :], dtype=np.float32) # {-1, 1}\n",
    "    # data = data / 127.0\n",
    "    random_idx = np.random.choice(len(data), n_sample, replace=False) \n",
    "    \n",
    "    sample_x = data[random_idx] # (10, 32, 128, 4) -> (10, 32, 128, 5)\n",
    "\n",
    "    sample_z = tf.random.truncated_normal((n_sample, latent_dim))\n",
    "    \n",
    "    print(\"Loaded {} melody samples\".format(len(sample_x)))\n",
    "\n",
    "    return sample_x, sample_z"
   ]
  },
  {
   "cell_type": "code",
   "execution_count": 21,
   "metadata": {
    "ExecuteTime": {
     "end_time": "2021-11-11T03:23:40.270183Z",
     "start_time": "2021-11-11T03:23:30.991561Z"
    }
   },
   "outputs": [
    {
     "name": "stdout",
     "output_type": "stream",
     "text": [
      "Loaded 10 melody samples\n"
     ]
    }
   ],
   "source": [
    "sample_x, sample_z = load_melody_samples(n_sample=10)"
   ]
  },
  {
   "cell_type": "code",
   "execution_count": 22,
   "metadata": {
    "ExecuteTime": {
     "end_time": "2021-11-11T03:23:40.371718Z",
     "start_time": "2021-11-11T03:23:40.368623Z"
    }
   },
   "outputs": [
    {
     "name": "stdout",
     "output_type": "stream",
     "text": [
      "x=(10, 4, 48, 84, 5), z=(10, 128)\n"
     ]
    }
   ],
   "source": [
    "print(f'x={sample_x.shape}, z={sample_z.shape}')"
   ]
  },
  {
   "cell_type": "code",
   "execution_count": 23,
   "metadata": {
    "ExecuteTime": {
     "end_time": "2021-11-11T03:23:40.637931Z",
     "start_time": "2021-11-11T03:23:40.633138Z"
    }
   },
   "outputs": [],
   "source": [
    "epoch = 8000\n",
    "n_dis_updates_per_gen_update = 5\n",
    "condition_track_idx = 1\n",
    "sample_c = tf.expand_dims(sample_x[..., condition_track_idx], -1)"
   ]
  },
  {
   "cell_type": "code",
   "execution_count": null,
   "metadata": {
    "ExecuteTime": {
     "end_time": "2021-11-08T04:45:50.926387Z",
     "start_time": "2021-11-08T04:45:50.922966Z"
    }
   },
   "outputs": [],
   "source": [
    "# n_measures = 4  # number of measures per sample\n",
    "# beat_resolution = 4  # temporal resolution of a beat (in timestep)\n",
    "# programs = [0, 0, 25, 33, 48]  # program number for each track\n",
    "# is_drums = [True, False, False, False, False]  # drum indicator for each track\n",
    "# track_names = ['Drums', 'Piano', 'Guitar', 'Bass', 'Strings']  # name of each track\n",
    "# tempo = 120\n",
    "\n",
    "# measure_resolution = 4 * beat_resolution\n",
    "# tempo_array = np.full((4 * 4 * measure_resolution, 1), tempo)\n",
    "# assert 24 % beat_resolution == 0, (\n",
    "#     \"beat_resolution must be a factor of 24 (the beat resolution used in \"\n",
    "#     \"the source dataset).\"\n",
    "# )\n",
    "# assert len(programs) == len(is_drums) and len(programs) == len(track_names), (\n",
    "#     \"Lengths of programs, is_drums and track_names must be the same.\"\n",
    "# ) "
   ]
  },
  {
   "cell_type": "code",
   "execution_count": 24,
   "metadata": {
    "ExecuteTime": {
     "end_time": "2021-11-11T03:23:47.615008Z",
     "start_time": "2021-11-11T03:23:47.600979Z"
    }
   },
   "outputs": [],
   "source": [
    "def save_pianoroll( pianoroll, programs, is_drums, tempo_array,\n",
    "                   beat_resolution, lowest_pitch, step=0):\n",
    "    \"\"\"Saves a batched pianoroll array to a npz file.\"\"\"\n",
    "    if pianoroll.ndim != 5:\n",
    "        raise ValueError(\"Input pianoroll array must have 5 dimensions.\")\n",
    "    if pianoroll.shape[-1] != len(programs):\n",
    "        raise ValueError(\"Length of `programs` does not match the number of \"\n",
    "                         \"tracks for the input array.\")\n",
    "    if pianoroll.shape[-1] != len(is_drums):\n",
    "        raise ValueError(\"Length of `is_drums` does not match the number of \"\n",
    "                         \"tracks for the input array.\")\n",
    "\n",
    "    # pianoroll = np.round( 0.5 * (pianoroll + 1.0 ))\n",
    "    reshaped = pianoroll.reshape(\n",
    "        -1, pianoroll.shape[1] * pianoroll.shape[2], pianoroll.shape[3],\n",
    "        pianoroll.shape[4])\n",
    "\n",
    "    # Pad to the correct pitch range and add silence between phrases\n",
    "    to_pad_pitch_high = 128 - lowest_pitch - pianoroll.shape[3]\n",
    "    padded = np.pad(\n",
    "        reshaped, ((0, 0), (0, pianoroll.shape[2]),\n",
    "                    (lowest_pitch, to_pad_pitch_high), (0, 0)), 'constant')\n",
    "\n",
    "    # Reshape the batched pianoroll array to a single pianoroll array\n",
    "    pianoroll_ = padded.reshape(-1, padded.shape[2], padded.shape[3])\n",
    "\n",
    "    # Create the tracks\n",
    "    tracks = []\n",
    "    for idx in range(pianoroll_.shape[2]):\n",
    "        pianoroll_arr = pianoroll_[..., idx]\n",
    "        piano = pianoroll_arr / pianoroll_arr.max()\n",
    "        piano[piano < 0.3] = 0.0\n",
    "        piano = piano * 127.0\n",
    "        tracks.append(Track( pianoroll=piano, program=programs[idx], is_drum=is_drums[idx], name=track_names[idx] ))\n",
    "            \n",
    "    # Create and save the multitrack\n",
    "    multitrack = pypianoroll.Multitrack(\n",
    "        tracks=tracks, tempo=tempo_array, resolution=beat_resolution)\n",
    "    \n",
    "    metric_1 = pypianoroll.metrics.n_pitch_classes_used(pianoroll_)\n",
    "    metric_3 = pypianoroll.metrics.in_scale_rate(pianoroll_, root=3, mode='major')\n",
    "    metric_4 = pypianoroll.metrics.polyphonic_rate(pianoroll_, threshold=2)\n",
    "    #metric_4 = ''.join(list(map(pypianoroll.metrics.tonal_distance, [ (pianoroll_[idx], pianoroll_[idx+1] , beat_resolution) for idx in range(len(pianoroll_)-1)  ] )))\n",
    "    #print(metric_4)\n",
    "\n",
    "    # display.clear_output(wait=True)\n",
    "    plt.ion()\n",
    "    fig = plt.figure()\n",
    "    axs = multitrack.plot()\n",
    "    for ax in axs:\n",
    "        for x in range(\n",
    "            measure_resolution,\n",
    "            4 * measure_resolution * n_measures,\n",
    "            measure_resolution\n",
    "        ):\n",
    "            if x % (measure_resolution * 4) == 0:\n",
    "                ax.axvline(x - 0.5, color='k')\n",
    "            else:\n",
    "                ax.axvline(x - 0.5, color='k', linestyle='-', linewidth=1)\n",
    "    plt.gcf().set_size_inches((20, 8))\n",
    "    metric_str = f'pitch_class: {metric_1}| InScale: {metric_3}| poly: {metric_4}|{pianoroll_.max():.2f}|{pianoroll_.min():.2f}'\n",
    "    plt.title(metric_str, loc='right')\n",
    "    plt.close(fig)\n",
    "    plt.savefig(f'{os.path.join(RUN_FOLDER, \"images\")}/{step}_sample_x.png')\n",
    "    plt.ioff()\n",
    "    #plt.close(fig)\n",
    "    pypianoroll.save(f'{os.path.join(RUN_FOLDER, \"samples\")}/{step}_Max_{pianoroll_.max():.2f}_min_{pianoroll_.min():.2f}_{metric_1:.2f}_{metric_3:.2f}_{metric_4:.2f}_sample_pianoroll.npz', multitrack, compressed=True)"
   ]
  },
  {
   "cell_type": "code",
   "execution_count": null,
   "metadata": {
    "ExecuteTime": {
     "start_time": "2021-11-11T03:23:50.107Z"
    },
    "scrolled": true
   },
   "outputs": [
    {
     "data": {
      "image/png": "[encoded data removed]",
      "text/plain": [
       "<Figure size 1080x360 with 1 Axes>"
      ]
     },
     "metadata": {
      "image/png": {
       "height": 316,
       "width": 899
      }
     },
     "output_type": "display_data"
    },
    {
     "name": "stdout",
     "output_type": "stream",
     "text": [
      "Iteration 314, d_loss=-84.16, g_loss=28.40\n"
     ]
    }
   ],
   "source": [
    "c_losses = []\n",
    "g_losses = []\n",
    "\n",
    "with strategy.scope():\n",
    "    \n",
    "    data = strategy.experimental_distribute_dataset(dataset)\n",
    "    it = iter(data)\n",
    "    init_lr = 1e-3\n",
    "    lr_schedule_fn = tf.keras.optimizers.schedules.PolynomialDecay(init_lr, decay_steps=2000)\n",
    "    # Setup Adam optimizers for both G and D\n",
    "    generator_optimizer = tf.keras.optimizers.Adam(learning_rate=lr_schedule_fn, beta_1=0.5, beta_2=0.9)\n",
    "    critic_optimizer = tf.keras.optimizers.Adam(learning_rate=lr_schedule_fn, beta_1=0.5, beta_2=0.9)    \n",
    "    \n",
    "    # We define our checkpoint directory and where to save trained checkpoints\n",
    "    ckpt = tf.train.Checkpoint(generator=generator,\n",
    "                            generator_optimizer=generator_optimizer,\n",
    "                            critic=discriminator,\n",
    "                            critic_optimizer=critic_optimizer)\n",
    "    ckpt_manager = tf.train.CheckpointManager(ckpt, CHECK_DIR, max_to_keep=5)\n",
    "    # print(type(it))\n",
    "    for iteration in range(1, epoch+1):\n",
    "\n",
    "        for _ in range(n_dis_updates_per_gen_update):\n",
    "            c_loss = _critic_train_step(next(it), condition_track_idx=1)\n",
    "\n",
    "        \n",
    "        g_loss = _generator_train_step(next(it), condition_track_idx=1)\n",
    "\n",
    "        c_losses.append(c_loss)\n",
    "        g_losses.append(g_loss)\n",
    "        \n",
    "        display.clear_output(wait=True)\n",
    "        fig = plt.figure(figsize=(15, 5))\n",
    "        line1, = plt.plot(range(iteration), c_losses, 'r')\n",
    "        line2, = plt.plot(range(iteration), g_losses, 'k')\n",
    "        plt.xlabel('Iterations')\n",
    "        plt.ylabel('Losses')\n",
    "        plt.legend((line1, line2), ('D-loss', 'G-loss'))\n",
    "        display.display(fig)\n",
    "        plt.close(fig)\n",
    "        \n",
    "        print('Iteration {}, d_loss={:.2f}, g_loss={:.2f}'.format(iteration, c_loss, g_loss))\n",
    "        \n",
    "        if (iteration) % 1000 == 0 :\n",
    "            \n",
    "            fake_sample_x = generator((sample_c, sample_z), training=False)\n",
    "\n",
    "            ckpt_manager.save(checkpoint_number=(iteration))\n",
    "            \n",
    "            fake_sample_x = fake_sample_x.numpy()\n",
    "            \n",
    "            # print(fake_sample_x.shape) # (10, 4, 48, 84, 5)\n",
    "            save_pianoroll(fake_sample_x, programs, is_drums, tempo_array, beat_resolution, lowest_pitch, step=iteration)\n",
    "            np.save(f\"{os.path.join(RUN_FOLDER, 'sample_data')}/sample_{iteration}_fake_sample_x.npy\", fake_sample_x)"
   ]
  },
  {
   "cell_type": "code",
   "execution_count": null,
   "metadata": {
    "ExecuteTime": {
     "start_time": "2021-11-11T03:23:51.885Z"
    }
   },
   "outputs": [],
   "source": [
    "ckpt = tf.train.Checkpoint(generator=generator)\n",
    "ckpt_manager = tf.train.CheckpointManager(ckpt, CHECK_DIR, max_to_keep=5)"
   ]
  },
  {
   "cell_type": "code",
   "execution_count": null,
   "metadata": {
    "ExecuteTime": {
     "start_time": "2021-11-11T03:23:52.055Z"
    }
   },
   "outputs": [],
   "source": [
    "ckpt.restore(ckpt_manager.latest_checkpoint).expect_partial()\n",
    "print('Latest checkpoint {} restored.'.format(ckpt_manager.latest_checkpoint))"
   ]
  },
  {
   "cell_type": "code",
   "execution_count": null,
   "metadata": {
    "ExecuteTime": {
     "end_time": "2021-11-08T14:18:05.652079Z",
     "start_time": "2021-11-08T14:18:05.648763Z"
    }
   },
   "outputs": [],
   "source": [
    "def generate_pianoroll(generator, conditioned_track, noise_vector=None):\n",
    "    if noise_vector == None:\n",
    "        noise_vector = tf.random.truncated_normal((1, latent_dim))\n",
    "    return generator((conditioned_track, noise_vector), training=False)"
   ]
  },
  {
   "cell_type": "code",
   "execution_count": null,
   "metadata": {
    "ExecuteTime": {
     "end_time": "2021-11-08T14:18:06.103577Z",
     "start_time": "2021-11-08T14:18:06.096650Z"
    }
   },
   "outputs": [],
   "source": [
    "def get_conditioned_track(midi=None, phrase_length=192, beat_resolution=12):\n",
    "    \n",
    "    if not isinstance(midi, str):\n",
    "        # ----------- Generation from preprocessed dataset ------------------\n",
    "        sample_x = midi\n",
    "        sample_c = np.expand_dims(sample_x[..., 0], -1)\n",
    "    else:\n",
    "        # --------------- Generation from midi file -------------------------\n",
    "        midi_file = midi\n",
    "\n",
    "        parsed = pypianoroll.read(midi_file)\n",
    "        parsed.set_resolution(beat_resolution)\n",
    "\n",
    "        sample_c = parsed.tracks[0].pianoroll.astype(np.float32)\n",
    "        \n",
    "        # Remove initial steps that have no note-on events\n",
    "        first_non_zero = np.nonzero(sample_c.sum(axis=1))[0][0]\n",
    "        \n",
    "        # Use the first 'phrase_length' steps as the primer\n",
    "        sample_c = sample_c[first_non_zero: first_non_zero + phrase_length]\n",
    "\n",
    "        # Binarize data (ignore velocity value)\n",
    "        sample_c[sample_c > 0] = 1\n",
    "        sample_c[sample_c <= 0] = -1\n",
    "\n",
    "        sample_c = np.expand_dims(np.expand_dims(sample_c, 0), -1)  # 1, 32, 128, 1\n",
    "        sample_c = sample_c[:, :, lowest_pitch:lowest_pitch+n_pitches, :]\n",
    "        sample_c = sample_c.reshape(-1, 4, 48, 84, 1)\n",
    "    sample_c = tf.convert_to_tensor(sample_c, dtype=tf.float32)\n",
    "    return sample_c"
   ]
  },
  {
   "cell_type": "code",
   "execution_count": null,
   "metadata": {
    "ExecuteTime": {
     "end_time": "2021-11-08T14:18:06.544312Z",
     "start_time": "2021-11-08T14:18:06.541576Z"
    }
   },
   "outputs": [],
   "source": [
    "user_input_files = os.listdir('./user_input_data')"
   ]
  },
  {
   "cell_type": "code",
   "execution_count": null,
   "metadata": {
    "ExecuteTime": {
     "end_time": "2021-11-08T14:18:06.986401Z",
     "start_time": "2021-11-08T14:18:06.982038Z"
    }
   },
   "outputs": [],
   "source": [
    "user_input_files"
   ]
  },
  {
   "cell_type": "code",
   "execution_count": null,
   "metadata": {
    "ExecuteTime": {
     "end_time": "2021-11-08T14:18:07.618059Z",
     "start_time": "2021-11-08T14:18:07.433037Z"
    }
   },
   "outputs": [],
   "source": [
    "USER_INPUT_PATH = f'./user_input_data/{user_input_files[0]}'\n",
    "print(USER_INPUT_PATH)\n",
    "conditioned_track = get_conditioned_track(midi=USER_INPUT_PATH)\n",
    "generated_pianoroll = generate_pianoroll(generator, conditioned_track)"
   ]
  },
  {
   "cell_type": "code",
   "execution_count": null,
   "metadata": {
    "ExecuteTime": {
     "end_time": "2021-11-08T14:18:08.090728Z",
     "start_time": "2021-11-08T14:18:08.084967Z"
    }
   },
   "outputs": [],
   "source": [
    "pianoroll = generated_pianoroll.numpy()\n",
    "\n",
    "# pianoroll = np.round( 0.5 * (pianoroll + 1.0 ))\n",
    "reshaped = pianoroll.reshape(\n",
    "    -1, pianoroll.shape[1] * pianoroll.shape[2], pianoroll.shape[3],\n",
    "    pianoroll.shape[4])\n",
    "\n",
    "# Pad to the correct pitch range and add silence between phrases\n",
    "to_pad_pitch_high = 128 - lowest_pitch - pianoroll.shape[3]\n",
    "padded = np.pad(reshaped, ((0, 0), (0, pianoroll.shape[2]),\n",
    "                (lowest_pitch, to_pad_pitch_high), (0, 0)), 'constant')\n",
    "\n",
    "# Reshape the batched pianoroll array to a single pianoroll array\n",
    "pianoroll_ = padded.reshape(-1, padded.shape[2], padded.shape[3])"
   ]
  },
  {
   "cell_type": "code",
   "execution_count": null,
   "metadata": {
    "ExecuteTime": {
     "end_time": "2021-11-08T14:18:08.588017Z",
     "start_time": "2021-11-08T14:18:08.582729Z"
    }
   },
   "outputs": [],
   "source": [
    "answer = pianoroll_.transpose(2, 0, 1)"
   ]
  },
  {
   "cell_type": "code",
   "execution_count": null,
   "metadata": {
    "ExecuteTime": {
     "end_time": "2021-11-08T14:18:09.088771Z",
     "start_time": "2021-11-08T14:18:09.081685Z"
    }
   },
   "outputs": [],
   "source": [
    "answer.shape"
   ]
  },
  {
   "cell_type": "code",
   "execution_count": null,
   "metadata": {
    "ExecuteTime": {
     "end_time": "2021-11-08T14:18:09.583896Z",
     "start_time": "2021-11-08T14:18:09.579081Z"
    }
   },
   "outputs": [],
   "source": [
    "answer.max(), answer.min()"
   ]
  },
  {
   "cell_type": "code",
   "execution_count": null,
   "metadata": {
    "ExecuteTime": {
     "end_time": "2021-11-08T14:18:11.855270Z",
     "start_time": "2021-11-08T14:18:10.074567Z"
    }
   },
   "outputs": [],
   "source": [
    "tracks = []\n",
    "for idx, (program, is_drum, track_name) in enumerate(zip(programs, is_drums, track_names)):\n",
    "    temp_arr = answer[idx]\n",
    "    # print(temp_arr.max())\n",
    "    temp_arr = temp_arr / temp_arr.max()\n",
    "    temp_arr[temp_arr < 0.5] = 0.0\n",
    "    temp_arr = temp_arr * 127.0\n",
    "    temp_arr = temp_arr[ :, lowest_pitch:lowest_pitch + n_pitches]\n",
    "    temp_arr = np.pad(temp_arr, ( (0,0), (lowest_pitch, 128 - lowest_pitch - n_pitches)  ))\n",
    "\n",
    "    #print(f\"In Scale Rate: {pypianoroll.metrics.in_scale_rate(temp_arr, root=3, mode='major')}\")\n",
    "    tracks.append(\n",
    "        StandardTrack(\n",
    "            name=track_name,\n",
    "            program=program,\n",
    "            is_drum=is_drum,\n",
    "            pianoroll=temp_arr,\n",
    "        )\n",
    "    )\n",
    "m = Multitrack(tracks=tracks, tempo=tempo_array, resolution=beat_resolution)\n",
    "m_data = muspy.from_pypianoroll(m)\n",
    "\n",
    "axs = m.plot()\n",
    "for ax in axs:\n",
    "    for x in range(\n",
    "        measure_resolution,\n",
    "        4 * measure_resolution * n_measures,\n",
    "        measure_resolution\n",
    "    ):\n",
    "        if x % (measure_resolution * 4) == 0:\n",
    "            ax.axvline(x - 0.5, color='k')\n",
    "        else:\n",
    "            ax.axvline(x - 0.5, color='k', linestyle='-', linewidth=1)\n",
    "plt.gcf().set_size_inches((16, 8))\n",
    "plt.show()"
   ]
  },
  {
   "cell_type": "code",
   "execution_count": null,
   "metadata": {
    "ExecuteTime": {
     "end_time": "2021-11-07T12:04:43.593566Z",
     "start_time": "2021-11-07T12:04:43.464794Z"
    }
   },
   "outputs": [],
   "source": [
    "import time\n",
    "m.write(f'{RUN_FOLDER}/viz/{USER_INPUT_PATH.split(\"/\")[-1].split(\".\")[0]}_{time.strftime((\"%Y_%m_%d-%H_%M_%S\"))}_output.mid')"
   ]
  },
  {
   "cell_type": "code",
   "execution_count": null,
   "metadata": {
    "ExecuteTime": {
     "end_time": "2021-11-07T12:05:49.760869Z",
     "start_time": "2021-11-07T12:05:43.234426Z"
    }
   },
   "outputs": [],
   "source": [
    "import gc\n",
    "gc.collect()"
   ]
  },
  {
   "cell_type": "code",
   "execution_count": null,
   "metadata": {},
   "outputs": [],
   "source": [
    "# from IPython.display import Video\n",
    "# import moviepy.editor as mpy\n",
    "\n",
    "# def make_training_video(folder_dir):\n",
    "#     files = sorted([os.path.join(folder_dir, f) for f in os.listdir(folder_dir) if f.endswith('.png')])\n",
    "#     frames = [mpy.ImageClip(f).set_duration(1) for f in files]  \n",
    "#     clip = mpy.concatenate_videoclips(frames, method=\"compose\")\n",
    "#     clip.write_videofile(\"movie.mp4\",fps=15) \n",
    "#     return Video(\"movie.mp4\")"
   ]
  },
  {
   "cell_type": "code",
   "execution_count": null,
   "metadata": {},
   "outputs": [],
   "source": [
    "temp_data = np.random.normal(size=(10, 4, 48, 84, 5))\n",
    "\n",
    "print(temp_data.transpose(0, 1, 2, 3, 4).shape)\n",
    "print(np.concatenate(temp_data, axis=0).shape)"
   ]
  },
  {
   "cell_type": "code",
   "execution_count": null,
   "metadata": {},
   "outputs": [],
   "source": []
  }
 ],
 "metadata": {
  "interpreter": {
   "hash": "14ef7f3e64b7b3165a9dc1929855f1c36deef3403fff7522e5b742de3923626b"
  },
  "kernelspec": {
   "display_name": "MUSAIN",
   "language": "python",
   "name": "musain_demo"
  },
  "language_info": {
   "codemirror_mode": {
    "name": "ipython",
    "version": 3
   },
   "file_extension": ".py",
   "mimetype": "text/x-python",
   "name": "python",
   "nbconvert_exporter": "python",
   "pygments_lexer": "ipython3",
   "version": "3.8.10"
  },
  "toc": {
   "base_numbering": 1,
   "nav_menu": {},
   "number_sections": false,
   "sideBar": true,
   "skip_h1_title": false,
   "title_cell": "Table of Contents",
   "title_sidebar": "Contents",
   "toc_cell": false,
   "toc_position": {},
   "toc_section_display": true,
   "toc_window_display": false
  },
  "varInspector": {
   "cols": {
    "lenName": 16,
    "lenType": 16,
    "lenVar": 40
   },
   "kernels_config": {
    "python": {
     "delete_cmd_postfix": "",
     "delete_cmd_prefix": "del ",
     "library": "var_list.py",
     "varRefreshCmd": "print(var_dic_list())"
    },
    "r": {
     "delete_cmd_postfix": ") ",
     "delete_cmd_prefix": "rm(",
     "library": "var_list.r",
     "varRefreshCmd": "cat(var_dic_list()) "
    }
   },
   "types_to_exclude": [
    "module",
    "function",
    "builtin_function_or_method",
    "instance",
    "_Feature"
   ],
   "window_display": false
  }
 },
 "nbformat": 4,
 "nbformat_minor": 2
}
