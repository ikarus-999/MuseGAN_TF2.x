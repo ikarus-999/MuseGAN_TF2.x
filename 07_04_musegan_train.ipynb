{
 "cells": [
  {
   "cell_type": "markdown",
   "metadata": {},
   "source": [
    "# MuseGAN Training"
   ]
  },
  {
   "cell_type": "markdown",
   "metadata": {},
   "source": [
    "## imports"
   ]
  },
  {
   "cell_type": "code",
   "execution_count": null,
   "metadata": {
    "ExecuteTime": {
     "end_time": "2022-05-16T10:08:00.235357Z",
     "start_time": "2022-05-16T10:07:58.774162Z"
    }
   },
   "outputs": [],
   "source": [
    "import os\n",
    "import matplotlib.pyplot as plt\n",
    "import numpy as np\n",
    "import types\n",
    "\n",
    "from MuseGAN_original import MuseGAN\n",
    "from util_music import loaders\n",
    "\n",
    "from music21 import midi\n",
    "from music21 import note, stream, duration"
   ]
  },
  {
   "cell_type": "code",
   "execution_count": null,
   "metadata": {
    "ExecuteTime": {
     "end_time": "2022-05-16T10:08:06.404163Z",
     "start_time": "2022-05-16T10:08:06.398139Z"
    }
   },
   "outputs": [],
   "source": [
    "# run params\n",
    "SECTION = 'compose'\n",
    "RUN_ID = '1000'\n",
    "DATA_NAME = 'lpd_17'\n",
    "#FILENAME = 'Jsb16thSeparated.npz' #'lpd_17_cleansed.npz'\n",
    "\n",
    "RUN_FOLDER = 'run/{}/'.format(SECTION)\n",
    "RUN_FOLDER += '_'.join([RUN_ID, DATA_NAME])\n",
    "\n",
    "\n",
    "if not os.path.exists(RUN_FOLDER):\n",
    "    os.makedirs(RUN_FOLDER)\n",
    "    os.makedirs(os.path.join(RUN_FOLDER, 'viz'))\n",
    "    os.makedirs(os.path.join(RUN_FOLDER, 'images'))\n",
    "    os.makedirs(os.path.join(RUN_FOLDER, 'weights'))\n",
    "    os.makedirs(os.path.join(RUN_FOLDER, 'samples'))\n",
    "\n",
    "mode =  'build' # ' 'load' # "
   ]
  },
  {
   "cell_type": "markdown",
   "metadata": {},
   "source": [
    "## data"
   ]
  },
  {
   "cell_type": "code",
   "execution_count": null,
   "metadata": {
    "ExecuteTime": {
     "end_time": "2022-05-16T10:08:09.510808Z",
     "start_time": "2022-05-16T10:08:09.505561Z"
    }
   },
   "outputs": [],
   "source": [
    "BATCH_SIZE = 64\n",
    "n_bars = 2\n",
    "n_steps_per_bar = 16\n",
    "n_pitches = 84\n",
    "n_tracks = 8\n",
    "\n",
    "# data_binary_2, data_ints, raw_data = loaders.load_music(DATA_NAME, FILENAME, n_bars, n_steps_per_bar)\n",
    "# data_binary_2 = np.squeeze(data_binary)\n",
    "# data_binary = np.load('./run/dataset3.npy')"
   ]
  },
  {
   "cell_type": "code",
   "execution_count": null,
   "metadata": {
    "ExecuteTime": {
     "end_time": "2022-05-16T10:08:10.585411Z",
     "start_time": "2022-05-16T10:08:09.629134Z"
    }
   },
   "outputs": [],
   "source": [
    "data_binary = np.load('./run/dataset3.npy')\n",
    "print(data_binary.shape)"
   ]
  },
  {
   "cell_type": "code",
   "execution_count": null,
   "metadata": {
    "ExecuteTime": {
     "end_time": "2022-05-16T10:08:10.588578Z",
     "start_time": "2022-05-16T10:08:10.586488Z"
    }
   },
   "outputs": [],
   "source": [
    "data_binary = data_binary.reshape(-1, n_bars, n_steps_per_bar, n_pitches, 17)\n",
    "print(data_binary.shape)"
   ]
  },
  {
   "cell_type": "code",
   "execution_count": null,
   "metadata": {
    "ExecuteTime": {
     "end_time": "2022-05-16T10:08:10.607920Z",
     "start_time": "2022-05-16T10:08:10.589311Z"
    }
   },
   "outputs": [],
   "source": [
    "# data_binary = np.where(data_binary==False, -1, 1)"
   ]
  },
  {
   "cell_type": "markdown",
   "metadata": {},
   "source": [
    "## architecture"
   ]
  },
  {
   "cell_type": "code",
   "execution_count": null,
   "metadata": {
    "ExecuteTime": {
     "end_time": "2022-05-16T10:08:25.461683Z",
     "start_time": "2022-05-16T10:08:13.462815Z"
    },
    "scrolled": true
   },
   "outputs": [],
   "source": [
    "gan = MuseGAN(input_dim = data_binary.shape[1:-1] + (8,)\n",
    "        , critic_learning_rate = 0.01\n",
    "        , generator_learning_rate = 0.01\n",
    "        , optimiser = 'adam'\n",
    "        , grad_weight = 0.0\n",
    "        , z_dim = 32\n",
    "        , batch_size = BATCH_SIZE\n",
    "        , n_tracks = n_tracks\n",
    "        , n_bars = n_bars\n",
    "        , n_steps_per_bar = n_steps_per_bar\n",
    "        , n_pitches = n_pitches\n",
    "        )\n",
    "\n",
    "if mode == 'build':\n",
    "    gan.save(RUN_FOLDER)\n",
    "else:                 \n",
    "    gan.load_weights(RUN_FOLDER)"
   ]
  },
  {
   "cell_type": "code",
   "execution_count": null,
   "metadata": {
    "ExecuteTime": {
     "end_time": "2022-05-16T10:08:25.467715Z",
     "start_time": "2022-05-16T10:08:25.463070Z"
    },
    "scrolled": true
   },
   "outputs": [],
   "source": [
    "gan.chords_tempNetwork.summary()"
   ]
  },
  {
   "cell_type": "code",
   "execution_count": null,
   "metadata": {
    "ExecuteTime": {
     "end_time": "2022-05-16T10:08:25.482179Z",
     "start_time": "2022-05-16T10:08:25.468474Z"
    },
    "scrolled": true
   },
   "outputs": [],
   "source": [
    "gan.barGen[0].summary()"
   ]
  },
  {
   "cell_type": "code",
   "execution_count": null,
   "metadata": {
    "ExecuteTime": {
     "end_time": "2022-05-16T10:08:25.512597Z",
     "start_time": "2022-05-16T10:08:25.483047Z"
    }
   },
   "outputs": [],
   "source": [
    "gan.generator.summary()"
   ]
  },
  {
   "cell_type": "code",
   "execution_count": null,
   "metadata": {
    "ExecuteTime": {
     "end_time": "2022-05-16T10:08:25.520155Z",
     "start_time": "2022-05-16T10:08:25.513278Z"
    },
    "scrolled": true
   },
   "outputs": [],
   "source": [
    "gan.critic.summary()"
   ]
  },
  {
   "cell_type": "markdown",
   "metadata": {},
   "source": [
    "## training"
   ]
  },
  {
   "cell_type": "code",
   "execution_count": null,
   "metadata": {
    "ExecuteTime": {
     "end_time": "2022-05-16T10:08:25.528379Z",
     "start_time": "2022-05-16T10:08:25.520825Z"
    }
   },
   "outputs": [],
   "source": [
    "EPOCHS = 500\n",
    "PRINT_EVERY_N_BATCHES = 10\n",
    "\n",
    "gan.epoch = 0"
   ]
  },
  {
   "cell_type": "code",
   "execution_count": null,
   "metadata": {
    "ExecuteTime": {
     "end_time": "2022-05-16T10:08:35.265597Z",
     "start_time": "2022-05-16T10:08:25.529013Z"
    }
   },
   "outputs": [],
   "source": [
    "print(np.all(np.isnan(data_binary[:, :, :, :, :8])))\n",
    "print(np.any(~np.isnan(data_binary[:, :, :, :, :8])))\n",
    "print(np.where(data_binary[:, :, :, :, :8] == True))"
   ]
  },
  {
   "cell_type": "code",
   "execution_count": null,
   "metadata": {
    "ExecuteTime": {
     "end_time": "2022-05-16T10:08:36.583625Z",
     "start_time": "2022-05-16T10:08:35.266525Z"
    }
   },
   "outputs": [],
   "source": [
    "np.all(~data_binary[:, :, :, :, :8])"
   ]
  },
  {
   "cell_type": "code",
   "execution_count": null,
   "metadata": {
    "ExecuteTime": {
     "end_time": "2022-05-16T10:11:58.767964Z",
     "start_time": "2022-05-16T10:08:36.584758Z"
    },
    "scrolled": true
   },
   "outputs": [],
   "source": [
    "gan.train(\n",
    "    data_binary[:, :, :, :, :8]\n",
    "    , batch_size = BATCH_SIZE\n",
    "    , epochs = EPOCHS\n",
    "    , run_folder = RUN_FOLDER\n",
    "    , print_every_n_batches = PRINT_EVERY_N_BATCHES\n",
    ")"
   ]
  },
  {
   "cell_type": "code",
   "execution_count": null,
   "metadata": {
    "ExecuteTime": {
     "end_time": "2022-05-16T10:11:58.903005Z",
     "start_time": "2022-05-16T10:11:58.768825Z"
    }
   },
   "outputs": [],
   "source": [
    "fig = plt.figure()\n",
    "plt.plot([x[0] for x in gan.d_losses], color='black', linewidth=0.25)\n",
    "\n",
    "plt.plot([x[1] for x in gan.d_losses], color='green', linewidth=0.25)\n",
    "plt.plot([x[2] for x in gan.d_losses], color='red', linewidth=0.25)\n",
    "plt.plot(gan.g_losses, color='orange', linewidth=0.25)\n",
    "\n",
    "plt.xlabel('batch', fontsize=18)\n",
    "plt.ylabel('loss', fontsize=16)\n",
    "\n",
    "plt.xlim(0, len(gan.d_losses))\n",
    "# plt.ylim(0, 2)\n",
    "\n",
    "plt.show()"
   ]
  },
  {
   "cell_type": "code",
   "execution_count": null,
   "metadata": {
    "ExecuteTime": {
     "end_time": "2022-05-16T10:11:58.906228Z",
     "start_time": "2022-05-16T10:11:58.903938Z"
    },
    "pycharm": {
     "name": "#%%\n"
    }
   },
   "outputs": [],
   "source": [
    "RUN_FOLDER"
   ]
  },
  {
   "cell_type": "code",
   "execution_count": null,
   "metadata": {},
   "outputs": [],
   "source": []
  }
 ],
 "metadata": {
  "kernelspec": {
   "display_name": "music01",
   "language": "python",
   "name": "music_expr"
  },
  "language_info": {
   "codemirror_mode": {
    "name": "ipython",
    "version": 3
   },
   "file_extension": ".py",
   "mimetype": "text/x-python",
   "name": "python",
   "nbconvert_exporter": "python",
   "pygments_lexer": "ipython3",
   "version": "3.8.10"
  },
  "toc": {
   "base_numbering": 1,
   "nav_menu": {},
   "number_sections": false,
   "sideBar": true,
   "skip_h1_title": false,
   "title_cell": "Table of Contents",
   "title_sidebar": "Contents",
   "toc_cell": false,
   "toc_position": {},
   "toc_section_display": true,
   "toc_window_display": false
  }
 },
 "nbformat": 4,
 "nbformat_minor": 2
}
